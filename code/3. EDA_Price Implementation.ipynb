{
 "cells": [
  {
   "cell_type": "code",
   "execution_count": 1,
   "metadata": {
    "collapsed": false,
    "pycharm": {
     "name": "#%%\n"
    }
   },
   "outputs": [],
   "source": [
    "# PROJECT : Purchasing Price Optimization\n",
    "# RESEARCHER : Hyun Ho Park\n",
    "# Created At : 2023-03-07\n",
    "# Updated At : 2023-03-07"
   ]
  },
  {
   "cell_type": "code",
   "execution_count": 221,
   "metadata": {
    "collapsed": false,
    "pycharm": {
     "name": "#%%\n"
    }
   },
   "outputs": [
    {
     "name": "stdout",
     "output_type": "stream",
     "text": [
      "DONE.\n"
     ]
    }
   ],
   "source": [
    "'''\n",
    "Import library\n",
    "'''\n",
    "\n",
    "import pandas as pd\n",
    "import numpy as np\n",
    "from datetime import datetime\n",
    "\n",
    "import os\n",
    "\n",
    "from tqdm import tqdm\n",
    "\n",
    "import matplotlib.pyplot as plt\n",
    "\n",
    "import gc\n",
    "\n",
    "print(f'DONE.')"
   ]
  },
  {
   "cell_type": "code",
   "execution_count": 3,
   "metadata": {
    "collapsed": false,
    "pycharm": {
     "name": "#%%\n"
    }
   },
   "outputs": [
    {
     "name": "stdout",
     "output_type": "stream",
     "text": [
      "DONE\n"
     ]
    }
   ],
   "source": [
    "'''\n",
    "IMPORT AUTOML Library\n",
    "'''\n",
    "\n",
    "# solve memory issue\n",
    "#!pip install --upgrade pycaret\n",
    "\n",
    "from pycaret.regression import *\n",
    "\n",
    "print(f'DONE')"
   ]
  },
  {
   "cell_type": "code",
   "execution_count": 4,
   "metadata": {
    "collapsed": false,
    "pycharm": {
     "name": "#%%\n"
    }
   },
   "outputs": [
    {
     "name": "stdout",
     "output_type": "stream",
     "text": [
      "Pandas version : 1.4.2.\n"
     ]
    }
   ],
   "source": [
    "'''\n",
    "Version Check\n",
    "'''\n",
    "\n",
    "print(f'Pandas version : {pd.__version__}.')"
   ]
  },
  {
   "cell_type": "code",
   "execution_count": 164,
   "outputs": [],
   "source": [
    "'''\n",
    "Function\n",
    "'''\n",
    "\n",
    "# Subtract n month\n",
    "def subtract_n_month(data, n_month):\n",
    "\n",
    "    # one_month\n",
    "    if n_month == 1 :\n",
    "        if data.month == 1:\n",
    "            # If the current month is January, subtract one year and set the month to December\n",
    "            n_month_ago = data.replace(year=data.year-1, month=12)\n",
    "        else:\n",
    "            # Otherwise, just subtract one month\n",
    "            n_month_ago = data.replace(month=data.month-1)\n",
    "\n",
    "    # two month\n",
    "    elif n_month == 2:\n",
    "        if data.month == 1:\n",
    "            # If the current month is January, subtract one year and set the month to November\n",
    "            n_month_ago = data.replace(year=data.year-1, month=11)\n",
    "        elif data.month == 2:\n",
    "            # If the current month is February, subtract one year and set the month to December\n",
    "            n_month_ago = data.replace(year=data.year-1, month=12)\n",
    "        else:\n",
    "            # Otherwise, just subtract one month\n",
    "            n_month_ago = data.replace(month=data.month-2)\n",
    "\n",
    "    # three month\n",
    "    elif n_month == 3:\n",
    "        if data.month == 1:\n",
    "            # If the current month is January, subtract one year and set the month to November\n",
    "            n_month_ago = data.replace(year=data.year-1, month=10)\n",
    "        elif data.month == 2:\n",
    "            # If the current month is February, subtract one year and set the month to December\n",
    "            n_month_ago = data.replace(year=data.year-1, month=11)\n",
    "        elif data.month == 3:\n",
    "            # If the current month is February, subtract one year and set the month to December\n",
    "            n_month_ago = data.replace(year=data.year-1, month=12)\n",
    "        else:\n",
    "            # Otherwise, just subtract one month\n",
    "            n_month_ago = data.replace(month=data.month-3)\n",
    "    else:\n",
    "        return \"NEED TO INPUT n_month from 1 to 3\"\n",
    "\n",
    "    return datetime.strftime(n_month_ago, '%Y-%m')"
   ],
   "metadata": {
    "collapsed": false,
    "pycharm": {
     "name": "#%%\n"
    }
   }
  },
  {
   "cell_type": "code",
   "execution_count": null,
   "outputs": [],
   "source": [],
   "metadata": {
    "collapsed": false,
    "pycharm": {
     "name": "#%%\n"
    }
   }
  },
  {
   "cell_type": "code",
   "execution_count": null,
   "outputs": [],
   "source": [],
   "metadata": {
    "collapsed": false,
    "pycharm": {
     "name": "#%%\n"
    }
   }
  },
  {
   "cell_type": "code",
   "execution_count": 47,
   "metadata": {
    "collapsed": false,
    "pycharm": {
     "name": "#%%\n"
    }
   },
   "outputs": [
    {
     "name": "stdout",
     "output_type": "stream",
     "text": [
      "DONE.\n"
     ]
    }
   ],
   "source": [
    "'''\n",
    "Load Dataset\n",
    "\n",
    "- In production level, datasets are cleansed\n",
    "a'''\n",
    "\n",
    "normalized_df = pd.read_excel('../1. Frozen shrimp imported china/1. shrimp_research.xlsx', sheet_name='btd_post_process')\n",
    "print(f'DONE.')"
   ]
  },
  {
   "cell_type": "code",
   "execution_count": 48,
   "metadata": {
    "collapsed": false,
    "pycharm": {
     "name": "#%%\n"
    }
   },
   "outputs": [
    {
     "name": "stdout",
     "output_type": "stream",
     "text": [
      "Data size : 69493\n"
     ]
    },
    {
     "data": {
      "text/plain": "     Flow    HS Code HS_Product       Date  \\\n0  Export  306179990  Los demás 2022-05-09   \n1  Export  306179990  Los demás 2022-05-09   \n2  Export  306179990  Los demás 2022-05-09   \n3  Export  306179990  Los demás 2022-05-09   \n4  Export  306179990  Los demás 2022-05-09   \n\n                                       Importer Country of Importer  \\\n0         CHINA SDIC INTERNACIONAL TRADE CO LTD          China (CN)   \n1         CHINA SDIC INTERNACIONAL TRADE CO LTD          China (CN)   \n2         CHINA SDIC INTERNACIONAL TRADE CO LTD          China (CN)   \n3         CHINA SDIC INTERNACIONAL TRADE CO LTD          China (CN)   \n4  QINGDAO KAITOU INTERNATIONAL TRADING CO.,LTD          China (CN)   \n\n  Country of Exporter         Exporter         Unit_Qty  Quantity  ...  \\\n0        Ecuador (EC)  FRIGOPESCA C.A.  KILOGRAMO GRUTO   38480.0  ...   \n1        Ecuador (EC)  FRIGOPESCA C.A.  KILOGRAMO GRUTO   38480.0  ...   \n2        Ecuador (EC)  FRIGOPESCA C.A.  KILOGRAMO GRUTO   38480.0  ...   \n3        Ecuador (EC)  FRIGOPESCA C.A.  KILOGRAMO GRUTO   38480.0  ...   \n4        Ecuador (EC)  FRIGOPESCA C.A.  KILOGRAMO GRUTO   38480.0  ...   \n\n   Value_Local_Currency  Incoterms  Transport  \\\n0                   0.0        NaN      Water   \n1                   0.0        NaN      Water   \n2                   0.0        NaN      Water   \n3                   0.0        NaN      Water   \n4                   0.0        NaN      Water   \n\n                                     DataId  re_cal_usd_per_kg  \\\n0  %252fFAPHYNOS%252fLuhkmINku5Dw%253d%253d          19.230769   \n1          lEyWX9g5SgUTDrxEVHWzJQ%253d%253d          19.230769   \n2          qoxQkpCrpmNjOIAgsQKklA%253d%253d          19.230769   \n3          qoxQkpCrpmObp2r5cURJYw%253d%253d          19.230769   \n4      qoxQkpCrpmM2RHbKa%252fysVg%253d%253d          19.230769   \n\n   re_cal_usd_per_qty zero_data                          rename_importer  \\\n0           12.993763        OK  CHINA SDCI INTERNACIONAL TRADE CO., LTD   \n1           12.993763        OK  CHINA SDCI INTERNACIONAL TRADE CO., LTD   \n2           12.993763        OK  CHINA SDCI INTERNACIONAL TRADE CO., LTD   \n3           12.993763        OK  CHINA SDCI INTERNACIONAL TRADE CO., LTD   \n4           12.993763        OK             QINGDAO KAITOU INTERNATIONAL   \n\n   rename_exporter             INFO  \n0  FRIGOPESCA C.A.  동일한 날짜 가격/중량 통일  \n1  FRIGOPESCA C.A.  동일한 날짜 가격/중량 통일  \n2  FRIGOPESCA C.A.  동일한 날짜 가격/중량 통일  \n3  FRIGOPESCA C.A.  동일한 날짜 가격/중량 통일  \n4  FRIGOPESCA C.A.  동일한 날짜 가격/중량 통일  \n\n[5 rows x 25 columns]",
      "text/html": "<div>\n<style scoped>\n    .dataframe tbody tr th:only-of-type {\n        vertical-align: middle;\n    }\n\n    .dataframe tbody tr th {\n        vertical-align: top;\n    }\n\n    .dataframe thead th {\n        text-align: right;\n    }\n</style>\n<table border=\"1\" class=\"dataframe\">\n  <thead>\n    <tr style=\"text-align: right;\">\n      <th></th>\n      <th>Flow</th>\n      <th>HS Code</th>\n      <th>HS_Product</th>\n      <th>Date</th>\n      <th>Importer</th>\n      <th>Country of Importer</th>\n      <th>Country of Exporter</th>\n      <th>Exporter</th>\n      <th>Unit_Qty</th>\n      <th>Quantity</th>\n      <th>...</th>\n      <th>Value_Local_Currency</th>\n      <th>Incoterms</th>\n      <th>Transport</th>\n      <th>DataId</th>\n      <th>re_cal_usd_per_kg</th>\n      <th>re_cal_usd_per_qty</th>\n      <th>zero_data</th>\n      <th>rename_importer</th>\n      <th>rename_exporter</th>\n      <th>INFO</th>\n    </tr>\n  </thead>\n  <tbody>\n    <tr>\n      <th>0</th>\n      <td>Export</td>\n      <td>306179990</td>\n      <td>Los demás</td>\n      <td>2022-05-09</td>\n      <td>CHINA SDIC INTERNACIONAL TRADE CO LTD</td>\n      <td>China (CN)</td>\n      <td>Ecuador (EC)</td>\n      <td>FRIGOPESCA C.A.</td>\n      <td>KILOGRAMO GRUTO</td>\n      <td>38480.0</td>\n      <td>...</td>\n      <td>0.0</td>\n      <td>NaN</td>\n      <td>Water</td>\n      <td>%252fFAPHYNOS%252fLuhkmINku5Dw%253d%253d</td>\n      <td>19.230769</td>\n      <td>12.993763</td>\n      <td>OK</td>\n      <td>CHINA SDCI INTERNACIONAL TRADE CO., LTD</td>\n      <td>FRIGOPESCA C.A.</td>\n      <td>동일한 날짜 가격/중량 통일</td>\n    </tr>\n    <tr>\n      <th>1</th>\n      <td>Export</td>\n      <td>306179990</td>\n      <td>Los demás</td>\n      <td>2022-05-09</td>\n      <td>CHINA SDIC INTERNACIONAL TRADE CO LTD</td>\n      <td>China (CN)</td>\n      <td>Ecuador (EC)</td>\n      <td>FRIGOPESCA C.A.</td>\n      <td>KILOGRAMO GRUTO</td>\n      <td>38480.0</td>\n      <td>...</td>\n      <td>0.0</td>\n      <td>NaN</td>\n      <td>Water</td>\n      <td>lEyWX9g5SgUTDrxEVHWzJQ%253d%253d</td>\n      <td>19.230769</td>\n      <td>12.993763</td>\n      <td>OK</td>\n      <td>CHINA SDCI INTERNACIONAL TRADE CO., LTD</td>\n      <td>FRIGOPESCA C.A.</td>\n      <td>동일한 날짜 가격/중량 통일</td>\n    </tr>\n    <tr>\n      <th>2</th>\n      <td>Export</td>\n      <td>306179990</td>\n      <td>Los demás</td>\n      <td>2022-05-09</td>\n      <td>CHINA SDIC INTERNACIONAL TRADE CO LTD</td>\n      <td>China (CN)</td>\n      <td>Ecuador (EC)</td>\n      <td>FRIGOPESCA C.A.</td>\n      <td>KILOGRAMO GRUTO</td>\n      <td>38480.0</td>\n      <td>...</td>\n      <td>0.0</td>\n      <td>NaN</td>\n      <td>Water</td>\n      <td>qoxQkpCrpmNjOIAgsQKklA%253d%253d</td>\n      <td>19.230769</td>\n      <td>12.993763</td>\n      <td>OK</td>\n      <td>CHINA SDCI INTERNACIONAL TRADE CO., LTD</td>\n      <td>FRIGOPESCA C.A.</td>\n      <td>동일한 날짜 가격/중량 통일</td>\n    </tr>\n    <tr>\n      <th>3</th>\n      <td>Export</td>\n      <td>306179990</td>\n      <td>Los demás</td>\n      <td>2022-05-09</td>\n      <td>CHINA SDIC INTERNACIONAL TRADE CO LTD</td>\n      <td>China (CN)</td>\n      <td>Ecuador (EC)</td>\n      <td>FRIGOPESCA C.A.</td>\n      <td>KILOGRAMO GRUTO</td>\n      <td>38480.0</td>\n      <td>...</td>\n      <td>0.0</td>\n      <td>NaN</td>\n      <td>Water</td>\n      <td>qoxQkpCrpmObp2r5cURJYw%253d%253d</td>\n      <td>19.230769</td>\n      <td>12.993763</td>\n      <td>OK</td>\n      <td>CHINA SDCI INTERNACIONAL TRADE CO., LTD</td>\n      <td>FRIGOPESCA C.A.</td>\n      <td>동일한 날짜 가격/중량 통일</td>\n    </tr>\n    <tr>\n      <th>4</th>\n      <td>Export</td>\n      <td>306179990</td>\n      <td>Los demás</td>\n      <td>2022-05-09</td>\n      <td>QINGDAO KAITOU INTERNATIONAL TRADING CO.,LTD</td>\n      <td>China (CN)</td>\n      <td>Ecuador (EC)</td>\n      <td>FRIGOPESCA C.A.</td>\n      <td>KILOGRAMO GRUTO</td>\n      <td>38480.0</td>\n      <td>...</td>\n      <td>0.0</td>\n      <td>NaN</td>\n      <td>Water</td>\n      <td>qoxQkpCrpmM2RHbKa%252fysVg%253d%253d</td>\n      <td>19.230769</td>\n      <td>12.993763</td>\n      <td>OK</td>\n      <td>QINGDAO KAITOU INTERNATIONAL</td>\n      <td>FRIGOPESCA C.A.</td>\n      <td>동일한 날짜 가격/중량 통일</td>\n    </tr>\n  </tbody>\n</table>\n<p>5 rows × 25 columns</p>\n</div>"
     },
     "execution_count": 48,
     "metadata": {},
     "output_type": "execute_result"
    }
   ],
   "source": [
    "# Data Check\n",
    "\n",
    "print(f'Data size : {len(normalized_df)}')\n",
    "normalized_df.head()"
   ]
  },
  {
   "cell_type": "markdown",
   "source": [
    "### Preprocessing"
   ],
   "metadata": {
    "collapsed": false,
    "pycharm": {
     "name": "#%% md\n"
    }
   }
  },
  {
   "cell_type": "code",
   "execution_count": 240,
   "outputs": [
    {
     "name": "stdout",
     "output_type": "stream",
     "text": [
      "LENGTH : 56015\n"
     ]
    },
    {
     "data": {
      "text/plain": "     Flow    HS Code HS_Product       Date  \\\n0  Export  306179990  Los demás 2022-05-09   \n1  Export  306179990  Los demás 2022-05-09   \n2  Export  306179990  Los demás 2022-05-09   \n3  Export  306179990  Los demás 2022-05-09   \n4  Export  306179990  Los demás 2022-05-09   \n\n                                       Importer Country of Importer  \\\n0         CHINA SDIC INTERNACIONAL TRADE CO LTD          China (CN)   \n1         CHINA SDIC INTERNACIONAL TRADE CO LTD          China (CN)   \n2         CHINA SDIC INTERNACIONAL TRADE CO LTD          China (CN)   \n3         CHINA SDIC INTERNACIONAL TRADE CO LTD          China (CN)   \n4  QINGDAO KAITOU INTERNATIONAL TRADING CO.,LTD          China (CN)   \n\n  Country of Exporter         Exporter         Unit_Qty  Quantity  ...  \\\n0        Ecuador (EC)  FRIGOPESCA C.A.  KILOGRAMO GRUTO   38480.0  ...   \n1        Ecuador (EC)  FRIGOPESCA C.A.  KILOGRAMO GRUTO   38480.0  ...   \n2        Ecuador (EC)  FRIGOPESCA C.A.  KILOGRAMO GRUTO   38480.0  ...   \n3        Ecuador (EC)  FRIGOPESCA C.A.  KILOGRAMO GRUTO   38480.0  ...   \n4        Ecuador (EC)  FRIGOPESCA C.A.  KILOGRAMO GRUTO   38480.0  ...   \n\n   Incoterms  Transport                                    DataId  \\\n0        NaN      Water  %252fFAPHYNOS%252fLuhkmINku5Dw%253d%253d   \n1        NaN      Water          lEyWX9g5SgUTDrxEVHWzJQ%253d%253d   \n2        NaN      Water          qoxQkpCrpmNjOIAgsQKklA%253d%253d   \n3        NaN      Water          qoxQkpCrpmObp2r5cURJYw%253d%253d   \n4        NaN      Water      qoxQkpCrpmM2RHbKa%252fysVg%253d%253d   \n\n   re_cal_usd_per_kg  re_cal_usd_per_qty  zero_data  \\\n0          19.230769           12.993763         OK   \n1          19.230769           12.993763         OK   \n2          19.230769           12.993763         OK   \n3          19.230769           12.993763         OK   \n4          19.230769           12.993763         OK   \n\n                           rename_importer  rename_exporter             INFO  \\\n0  CHINA SDCI INTERNACIONAL TRADE CO., LTD  FRIGOPESCA C.A.  동일한 날짜 가격/중량 통일   \n1  CHINA SDCI INTERNACIONAL TRADE CO., LTD  FRIGOPESCA C.A.  동일한 날짜 가격/중량 통일   \n2  CHINA SDCI INTERNACIONAL TRADE CO., LTD  FRIGOPESCA C.A.  동일한 날짜 가격/중량 통일   \n3  CHINA SDCI INTERNACIONAL TRADE CO., LTD  FRIGOPESCA C.A.  동일한 날짜 가격/중량 통일   \n4             QINGDAO KAITOU INTERNATIONAL  FRIGOPESCA C.A.  동일한 날짜 가격/중량 통일   \n\n     month  \n0  2022-05  \n1  2022-05  \n2  2022-05  \n3  2022-05  \n4  2022-05  \n\n[5 rows x 26 columns]",
      "text/html": "<div>\n<style scoped>\n    .dataframe tbody tr th:only-of-type {\n        vertical-align: middle;\n    }\n\n    .dataframe tbody tr th {\n        vertical-align: top;\n    }\n\n    .dataframe thead th {\n        text-align: right;\n    }\n</style>\n<table border=\"1\" class=\"dataframe\">\n  <thead>\n    <tr style=\"text-align: right;\">\n      <th></th>\n      <th>Flow</th>\n      <th>HS Code</th>\n      <th>HS_Product</th>\n      <th>Date</th>\n      <th>Importer</th>\n      <th>Country of Importer</th>\n      <th>Country of Exporter</th>\n      <th>Exporter</th>\n      <th>Unit_Qty</th>\n      <th>Quantity</th>\n      <th>...</th>\n      <th>Incoterms</th>\n      <th>Transport</th>\n      <th>DataId</th>\n      <th>re_cal_usd_per_kg</th>\n      <th>re_cal_usd_per_qty</th>\n      <th>zero_data</th>\n      <th>rename_importer</th>\n      <th>rename_exporter</th>\n      <th>INFO</th>\n      <th>month</th>\n    </tr>\n  </thead>\n  <tbody>\n    <tr>\n      <th>0</th>\n      <td>Export</td>\n      <td>306179990</td>\n      <td>Los demás</td>\n      <td>2022-05-09</td>\n      <td>CHINA SDIC INTERNACIONAL TRADE CO LTD</td>\n      <td>China (CN)</td>\n      <td>Ecuador (EC)</td>\n      <td>FRIGOPESCA C.A.</td>\n      <td>KILOGRAMO GRUTO</td>\n      <td>38480.0</td>\n      <td>...</td>\n      <td>NaN</td>\n      <td>Water</td>\n      <td>%252fFAPHYNOS%252fLuhkmINku5Dw%253d%253d</td>\n      <td>19.230769</td>\n      <td>12.993763</td>\n      <td>OK</td>\n      <td>CHINA SDCI INTERNACIONAL TRADE CO., LTD</td>\n      <td>FRIGOPESCA C.A.</td>\n      <td>동일한 날짜 가격/중량 통일</td>\n      <td>2022-05</td>\n    </tr>\n    <tr>\n      <th>1</th>\n      <td>Export</td>\n      <td>306179990</td>\n      <td>Los demás</td>\n      <td>2022-05-09</td>\n      <td>CHINA SDIC INTERNACIONAL TRADE CO LTD</td>\n      <td>China (CN)</td>\n      <td>Ecuador (EC)</td>\n      <td>FRIGOPESCA C.A.</td>\n      <td>KILOGRAMO GRUTO</td>\n      <td>38480.0</td>\n      <td>...</td>\n      <td>NaN</td>\n      <td>Water</td>\n      <td>lEyWX9g5SgUTDrxEVHWzJQ%253d%253d</td>\n      <td>19.230769</td>\n      <td>12.993763</td>\n      <td>OK</td>\n      <td>CHINA SDCI INTERNACIONAL TRADE CO., LTD</td>\n      <td>FRIGOPESCA C.A.</td>\n      <td>동일한 날짜 가격/중량 통일</td>\n      <td>2022-05</td>\n    </tr>\n    <tr>\n      <th>2</th>\n      <td>Export</td>\n      <td>306179990</td>\n      <td>Los demás</td>\n      <td>2022-05-09</td>\n      <td>CHINA SDIC INTERNACIONAL TRADE CO LTD</td>\n      <td>China (CN)</td>\n      <td>Ecuador (EC)</td>\n      <td>FRIGOPESCA C.A.</td>\n      <td>KILOGRAMO GRUTO</td>\n      <td>38480.0</td>\n      <td>...</td>\n      <td>NaN</td>\n      <td>Water</td>\n      <td>qoxQkpCrpmNjOIAgsQKklA%253d%253d</td>\n      <td>19.230769</td>\n      <td>12.993763</td>\n      <td>OK</td>\n      <td>CHINA SDCI INTERNACIONAL TRADE CO., LTD</td>\n      <td>FRIGOPESCA C.A.</td>\n      <td>동일한 날짜 가격/중량 통일</td>\n      <td>2022-05</td>\n    </tr>\n    <tr>\n      <th>3</th>\n      <td>Export</td>\n      <td>306179990</td>\n      <td>Los demás</td>\n      <td>2022-05-09</td>\n      <td>CHINA SDIC INTERNACIONAL TRADE CO LTD</td>\n      <td>China (CN)</td>\n      <td>Ecuador (EC)</td>\n      <td>FRIGOPESCA C.A.</td>\n      <td>KILOGRAMO GRUTO</td>\n      <td>38480.0</td>\n      <td>...</td>\n      <td>NaN</td>\n      <td>Water</td>\n      <td>qoxQkpCrpmObp2r5cURJYw%253d%253d</td>\n      <td>19.230769</td>\n      <td>12.993763</td>\n      <td>OK</td>\n      <td>CHINA SDCI INTERNACIONAL TRADE CO., LTD</td>\n      <td>FRIGOPESCA C.A.</td>\n      <td>동일한 날짜 가격/중량 통일</td>\n      <td>2022-05</td>\n    </tr>\n    <tr>\n      <th>4</th>\n      <td>Export</td>\n      <td>306179990</td>\n      <td>Los demás</td>\n      <td>2022-05-09</td>\n      <td>QINGDAO KAITOU INTERNATIONAL TRADING CO.,LTD</td>\n      <td>China (CN)</td>\n      <td>Ecuador (EC)</td>\n      <td>FRIGOPESCA C.A.</td>\n      <td>KILOGRAMO GRUTO</td>\n      <td>38480.0</td>\n      <td>...</td>\n      <td>NaN</td>\n      <td>Water</td>\n      <td>qoxQkpCrpmM2RHbKa%252fysVg%253d%253d</td>\n      <td>19.230769</td>\n      <td>12.993763</td>\n      <td>OK</td>\n      <td>QINGDAO KAITOU INTERNATIONAL</td>\n      <td>FRIGOPESCA C.A.</td>\n      <td>동일한 날짜 가격/중량 통일</td>\n      <td>2022-05</td>\n    </tr>\n  </tbody>\n</table>\n<p>5 rows × 26 columns</p>\n</div>"
     },
     "execution_count": 240,
     "metadata": {},
     "output_type": "execute_result"
    }
   ],
   "source": [
    "'''\n",
    "Select only data is existed\n",
    "'''\n",
    "\n",
    "data_df = normalized_df[normalized_df['zero_data'] == 'OK'].copy()\n",
    "data_df['month'] = data_df['Date'].apply(lambda x: datetime.strftime(x, '%Y-%m'))\n",
    "\n",
    "print(f'LENGTH : {len(data_df)}')\n",
    "data_df.head()"
   ],
   "metadata": {
    "collapsed": false,
    "pycharm": {
     "name": "#%%\n"
    }
   }
  },
  {
   "cell_type": "code",
   "execution_count": 241,
   "outputs": [
    {
     "data": {
      "text/plain": "0"
     },
     "execution_count": 241,
     "metadata": {},
     "output_type": "execute_result"
    }
   ],
   "source": [
    "gc.collect()"
   ],
   "metadata": {
    "collapsed": false,
    "pycharm": {
     "name": "#%%\n"
    }
   }
  },
  {
   "cell_type": "code",
   "execution_count": 242,
   "outputs": [],
   "source": [
    "'''\n",
    "Check there is abnormal in the Net_weight\n",
    "\n",
    "For preprocessing, less than 1000 kg is hard to imagine\n",
    "multiple 1000 (ton)\n",
    "'''\n",
    "\n",
    "data_df.loc[\n",
    "    data_df[(data_df['Net_Weight'] < 500) & (data_df['Quantity'] > 5000)].index,\n",
    "    'Net_Weight'\n",
    "] *= 1000\n"
   ],
   "metadata": {
    "collapsed": false,
    "pycharm": {
     "name": "#%%\n"
    }
   }
  },
  {
   "cell_type": "code",
   "execution_count": null,
   "outputs": [],
   "source": [],
   "metadata": {
    "collapsed": false,
    "pycharm": {
     "name": "#%%\n"
    }
   }
  },
  {
   "cell_type": "code",
   "execution_count": 288,
   "outputs": [
    {
     "name": "stdout",
     "output_type": "stream",
     "text": [
      "IMPORT DATA : 1885\n"
     ]
    },
    {
     "data": {
      "text/plain": "                          rename_importer    month   Quantity  Net_Weight  \\\n0    & NOTIFY: SHANGHAI VANNAWIN TRADING   2022-07   17280.00     17280.0   \n1     ABAD ADUANAS Y LOGISTICA VALENCIASL  2022-08   25348.63     23260.0   \n2  AHCOF INDUSTRIAL DEVELOPMENT CO., LTD.  2022-01   92400.00     72000.0   \n3  AHCOF INDUSTRIAL DEVELOPMENT CO., LTD.  2022-05   79960.00     66360.0   \n4  AHCOF INDUSTRIAL DEVELOPMENT CO., LTD.  2022-06  170853.59    148480.0   \n\n   Target Price M-1 Price M-2 Price M-3 Price HS code  \n0     112148.31      None      None      None  030617  \n1     102344.00      None      None      None  030617  \n2    1050000.00      None      None      None  030617  \n3     820520.13      None      None      None  030617  \n4    1246864.48      None      None      None  030617  ",
      "text/html": "<div>\n<style scoped>\n    .dataframe tbody tr th:only-of-type {\n        vertical-align: middle;\n    }\n\n    .dataframe tbody tr th {\n        vertical-align: top;\n    }\n\n    .dataframe thead th {\n        text-align: right;\n    }\n</style>\n<table border=\"1\" class=\"dataframe\">\n  <thead>\n    <tr style=\"text-align: right;\">\n      <th></th>\n      <th>rename_importer</th>\n      <th>month</th>\n      <th>Quantity</th>\n      <th>Net_Weight</th>\n      <th>Target Price</th>\n      <th>M-1 Price</th>\n      <th>M-2 Price</th>\n      <th>M-3 Price</th>\n      <th>HS code</th>\n    </tr>\n  </thead>\n  <tbody>\n    <tr>\n      <th>0</th>\n      <td>&amp; NOTIFY: SHANGHAI VANNAWIN TRADING</td>\n      <td>2022-07</td>\n      <td>17280.00</td>\n      <td>17280.0</td>\n      <td>112148.31</td>\n      <td>None</td>\n      <td>None</td>\n      <td>None</td>\n      <td>030617</td>\n    </tr>\n    <tr>\n      <th>1</th>\n      <td>ABAD ADUANAS Y LOGISTICA VALENCIASL</td>\n      <td>2022-08</td>\n      <td>25348.63</td>\n      <td>23260.0</td>\n      <td>102344.00</td>\n      <td>None</td>\n      <td>None</td>\n      <td>None</td>\n      <td>030617</td>\n    </tr>\n    <tr>\n      <th>2</th>\n      <td>AHCOF INDUSTRIAL DEVELOPMENT CO., LTD.</td>\n      <td>2022-01</td>\n      <td>92400.00</td>\n      <td>72000.0</td>\n      <td>1050000.00</td>\n      <td>None</td>\n      <td>None</td>\n      <td>None</td>\n      <td>030617</td>\n    </tr>\n    <tr>\n      <th>3</th>\n      <td>AHCOF INDUSTRIAL DEVELOPMENT CO., LTD.</td>\n      <td>2022-05</td>\n      <td>79960.00</td>\n      <td>66360.0</td>\n      <td>820520.13</td>\n      <td>None</td>\n      <td>None</td>\n      <td>None</td>\n      <td>030617</td>\n    </tr>\n    <tr>\n      <th>4</th>\n      <td>AHCOF INDUSTRIAL DEVELOPMENT CO., LTD.</td>\n      <td>2022-06</td>\n      <td>170853.59</td>\n      <td>148480.0</td>\n      <td>1246864.48</td>\n      <td>None</td>\n      <td>None</td>\n      <td>None</td>\n      <td>030617</td>\n    </tr>\n  </tbody>\n</table>\n</div>"
     },
     "execution_count": 288,
     "metadata": {},
     "output_type": "execute_result"
    }
   ],
   "source": [
    "'''\n",
    "Group by the month, importer/exporter\n",
    "'''\n",
    "\n",
    "importer_df = data_df.groupby(by= [\n",
    "    'rename_importer', 'month'\n",
    "])['Quantity', 'Net_Weight', 'Value (USD)']\n",
    "\n",
    "importer_df = importer_df.sum().reset_index()\n",
    "\n",
    "importer_df[['M-1 Price', 'M-2 Price', 'M-3 Price']] = None\n",
    "\n",
    "importer_df['HS code'] = '030617'\n",
    "\n",
    "print(f'IMPORT DATA : {len(importer_df)}')\n",
    "\n",
    "importer_df.rename(columns = {\n",
    "    \"Value (USD)\" : \"Target Price\"\n",
    "}, inplace=True)\n",
    "\n",
    "importer_df.head()"
   ],
   "metadata": {
    "collapsed": false,
    "pycharm": {
     "name": "#%%\n"
    }
   }
  },
  {
   "cell_type": "code",
   "execution_count": 289,
   "outputs": [
    {
     "name": "stderr",
     "output_type": "stream",
     "text": [
      "100%|██████████| 1885/1885 [00:04<00:00, 416.21it/s]"
     ]
    },
    {
     "name": "stdout",
     "output_type": "stream",
     "text": [
      "ALL DONE.\n",
      "CPU times: user 4.48 s, sys: 138 ms, total: 4.62 s\n",
      "Wall time: 4.53 s\n"
     ]
    },
    {
     "name": "stderr",
     "output_type": "stream",
     "text": [
      "\n"
     ]
    }
   ],
   "source": [
    "%%time\n",
    "\n",
    "month_lst = np.arange(1, 4)\n",
    "\n",
    "for i in tqdm(importer_df.index):\n",
    "    target_company = importer_df.loc[i, 'rename_importer']\n",
    "\n",
    "    for month_ in month_lst:\n",
    "        # M-month price\n",
    "        month_n_price = subtract_n_month(pd.to_datetime(importer_df.loc[i, 'month']), month_)\n",
    "        month_n_data = importer_df[(importer_df['rename_importer'] == target_company) & (importer_df['month'] == month_n_price)]\n",
    "\n",
    "        # Apply data\n",
    "        column_ = str('M-' + str(month_) + ' Price')\n",
    "        if month_n_data.empty:\n",
    "            importer_df.loc[i, column_] = None\n",
    "        else:\n",
    "            importer_df.loc[i, column_] = month_n_data['Target Price'].iloc[0]\n",
    "\n",
    "    del target_company, month_n_price, month_n_data, column_\n",
    "\n",
    "print(f'ALL DONE.')"
   ],
   "metadata": {
    "collapsed": false,
    "pycharm": {
     "name": "#%%\n"
    }
   }
  },
  {
   "cell_type": "code",
   "execution_count": 290,
   "outputs": [
    {
     "data": {
      "text/plain": "                          rename_importer    month   Quantity  Net_Weight  \\\n0    & NOTIFY: SHANGHAI VANNAWIN TRADING   2022-07   17280.00     17280.0   \n1     ABAD ADUANAS Y LOGISTICA VALENCIASL  2022-08   25348.63     23260.0   \n2  AHCOF INDUSTRIAL DEVELOPMENT CO., LTD.  2022-01   92400.00     72000.0   \n3  AHCOF INDUSTRIAL DEVELOPMENT CO., LTD.  2022-05   79960.00     66360.0   \n4  AHCOF INDUSTRIAL DEVELOPMENT CO., LTD.  2022-06  170853.59    148480.0   \n5  AHCOF INDUSTRIAL DEVELOPMENT CO., LTD.  2022-07  630104.77    572920.0   \n6  AHCOF INDUSTRIAL DEVELOPMENT CO., LTD.  2022-08  196553.59    188880.0   \n7  AHCOF INDUSTRIAL DEVELOPMENT CO., LTD.  2022-09   75200.00     55600.0   \n8  AHCOF INDUSTRIAL DEVELOPMENT CO., LTD.  2022-10  114240.00    114240.0   \n9                 ALIAN AQC PRODUCTS LTD   2022-08   35640.00     35640.0   \n\n   Target Price   M-1 Price   M-2 Price   M-3 Price HS code  \n0     112148.31        None        None        None  030617  \n1     102344.00        None        None        None  030617  \n2    1050000.00        None        None        None  030617  \n3     820520.13        None        None        None  030617  \n4    1246864.48   820520.13        None        None  030617  \n5    5145946.98  1246864.48   820520.13        None  030617  \n6    1378415.26  5145946.98  1246864.48   820520.13  030617  \n7     281172.03  1378415.26  5145946.98  1246864.48  030617  \n8     637957.76   281172.03  1378415.26  5145946.98  030617  \n9     218825.96        None        None        None  030617  ",
      "text/html": "<div>\n<style scoped>\n    .dataframe tbody tr th:only-of-type {\n        vertical-align: middle;\n    }\n\n    .dataframe tbody tr th {\n        vertical-align: top;\n    }\n\n    .dataframe thead th {\n        text-align: right;\n    }\n</style>\n<table border=\"1\" class=\"dataframe\">\n  <thead>\n    <tr style=\"text-align: right;\">\n      <th></th>\n      <th>rename_importer</th>\n      <th>month</th>\n      <th>Quantity</th>\n      <th>Net_Weight</th>\n      <th>Target Price</th>\n      <th>M-1 Price</th>\n      <th>M-2 Price</th>\n      <th>M-3 Price</th>\n      <th>HS code</th>\n    </tr>\n  </thead>\n  <tbody>\n    <tr>\n      <th>0</th>\n      <td>&amp; NOTIFY: SHANGHAI VANNAWIN TRADING</td>\n      <td>2022-07</td>\n      <td>17280.00</td>\n      <td>17280.0</td>\n      <td>112148.31</td>\n      <td>None</td>\n      <td>None</td>\n      <td>None</td>\n      <td>030617</td>\n    </tr>\n    <tr>\n      <th>1</th>\n      <td>ABAD ADUANAS Y LOGISTICA VALENCIASL</td>\n      <td>2022-08</td>\n      <td>25348.63</td>\n      <td>23260.0</td>\n      <td>102344.00</td>\n      <td>None</td>\n      <td>None</td>\n      <td>None</td>\n      <td>030617</td>\n    </tr>\n    <tr>\n      <th>2</th>\n      <td>AHCOF INDUSTRIAL DEVELOPMENT CO., LTD.</td>\n      <td>2022-01</td>\n      <td>92400.00</td>\n      <td>72000.0</td>\n      <td>1050000.00</td>\n      <td>None</td>\n      <td>None</td>\n      <td>None</td>\n      <td>030617</td>\n    </tr>\n    <tr>\n      <th>3</th>\n      <td>AHCOF INDUSTRIAL DEVELOPMENT CO., LTD.</td>\n      <td>2022-05</td>\n      <td>79960.00</td>\n      <td>66360.0</td>\n      <td>820520.13</td>\n      <td>None</td>\n      <td>None</td>\n      <td>None</td>\n      <td>030617</td>\n    </tr>\n    <tr>\n      <th>4</th>\n      <td>AHCOF INDUSTRIAL DEVELOPMENT CO., LTD.</td>\n      <td>2022-06</td>\n      <td>170853.59</td>\n      <td>148480.0</td>\n      <td>1246864.48</td>\n      <td>820520.13</td>\n      <td>None</td>\n      <td>None</td>\n      <td>030617</td>\n    </tr>\n    <tr>\n      <th>5</th>\n      <td>AHCOF INDUSTRIAL DEVELOPMENT CO., LTD.</td>\n      <td>2022-07</td>\n      <td>630104.77</td>\n      <td>572920.0</td>\n      <td>5145946.98</td>\n      <td>1246864.48</td>\n      <td>820520.13</td>\n      <td>None</td>\n      <td>030617</td>\n    </tr>\n    <tr>\n      <th>6</th>\n      <td>AHCOF INDUSTRIAL DEVELOPMENT CO., LTD.</td>\n      <td>2022-08</td>\n      <td>196553.59</td>\n      <td>188880.0</td>\n      <td>1378415.26</td>\n      <td>5145946.98</td>\n      <td>1246864.48</td>\n      <td>820520.13</td>\n      <td>030617</td>\n    </tr>\n    <tr>\n      <th>7</th>\n      <td>AHCOF INDUSTRIAL DEVELOPMENT CO., LTD.</td>\n      <td>2022-09</td>\n      <td>75200.00</td>\n      <td>55600.0</td>\n      <td>281172.03</td>\n      <td>1378415.26</td>\n      <td>5145946.98</td>\n      <td>1246864.48</td>\n      <td>030617</td>\n    </tr>\n    <tr>\n      <th>8</th>\n      <td>AHCOF INDUSTRIAL DEVELOPMENT CO., LTD.</td>\n      <td>2022-10</td>\n      <td>114240.00</td>\n      <td>114240.0</td>\n      <td>637957.76</td>\n      <td>281172.03</td>\n      <td>1378415.26</td>\n      <td>5145946.98</td>\n      <td>030617</td>\n    </tr>\n    <tr>\n      <th>9</th>\n      <td>ALIAN AQC PRODUCTS LTD</td>\n      <td>2022-08</td>\n      <td>35640.00</td>\n      <td>35640.0</td>\n      <td>218825.96</td>\n      <td>None</td>\n      <td>None</td>\n      <td>None</td>\n      <td>030617</td>\n    </tr>\n  </tbody>\n</table>\n</div>"
     },
     "execution_count": 290,
     "metadata": {},
     "output_type": "execute_result"
    }
   ],
   "source": [
    "# Return the result\n",
    "\n",
    "importer_df.head(10)"
   ],
   "metadata": {
    "collapsed": false,
    "pycharm": {
     "name": "#%%\n"
    }
   }
  },
  {
   "cell_type": "code",
   "execution_count": 291,
   "outputs": [
    {
     "name": "stdout",
     "output_type": "stream",
     "text": [
      "DATA SIZE : 599\n"
     ]
    },
    {
     "data": {
      "text/plain": "                                     rename_importer    month    Quantity  \\\n0   ZHANJIANG SEA WORLD INTERNATIONAL TRADE CO., LTD  2022-10  2576202.25   \n1  CHINATEX RAW MATERIAL INTERNATIONAL TRADING CO...  2022-08    39420.00   \n2                  ZHANJIANG SHENBAO DEVELOPMENT CO   2022-07   442640.00   \n3                       TAIZHOU FEIFAN INTERNATIONAL  2022-05   102420.00   \n4                    ZHANJIANG YUEZHIDU FOOD CO LTD   2022-10   128520.00   \n\n   Net_Weight  Target Price   M-1 Price    M-2 Price    M-3 Price HS code  \n0   2025540.0   12356538.82  3610256.71  20615405.07  17428042.57  030617  \n1     39420.0     270563.82   935818.76   1554945.18    1093104.0  030617  \n2    442640.0    2938739.89  2328073.79   1245766.56   1166414.01  030617  \n3     75120.0    1021327.12    600000.0   1729394.44   4193487.24  030617  \n4    128520.0     673586.60  1425793.88   1543018.08    105909.05  030617  ",
      "text/html": "<div>\n<style scoped>\n    .dataframe tbody tr th:only-of-type {\n        vertical-align: middle;\n    }\n\n    .dataframe tbody tr th {\n        vertical-align: top;\n    }\n\n    .dataframe thead th {\n        text-align: right;\n    }\n</style>\n<table border=\"1\" class=\"dataframe\">\n  <thead>\n    <tr style=\"text-align: right;\">\n      <th></th>\n      <th>rename_importer</th>\n      <th>month</th>\n      <th>Quantity</th>\n      <th>Net_Weight</th>\n      <th>Target Price</th>\n      <th>M-1 Price</th>\n      <th>M-2 Price</th>\n      <th>M-3 Price</th>\n      <th>HS code</th>\n    </tr>\n  </thead>\n  <tbody>\n    <tr>\n      <th>0</th>\n      <td>ZHANJIANG SEA WORLD INTERNATIONAL TRADE CO., LTD</td>\n      <td>2022-10</td>\n      <td>2576202.25</td>\n      <td>2025540.0</td>\n      <td>12356538.82</td>\n      <td>3610256.71</td>\n      <td>20615405.07</td>\n      <td>17428042.57</td>\n      <td>030617</td>\n    </tr>\n    <tr>\n      <th>1</th>\n      <td>CHINATEX RAW MATERIAL INTERNATIONAL TRADING CO...</td>\n      <td>2022-08</td>\n      <td>39420.00</td>\n      <td>39420.0</td>\n      <td>270563.82</td>\n      <td>935818.76</td>\n      <td>1554945.18</td>\n      <td>1093104.0</td>\n      <td>030617</td>\n    </tr>\n    <tr>\n      <th>2</th>\n      <td>ZHANJIANG SHENBAO DEVELOPMENT CO</td>\n      <td>2022-07</td>\n      <td>442640.00</td>\n      <td>442640.0</td>\n      <td>2938739.89</td>\n      <td>2328073.79</td>\n      <td>1245766.56</td>\n      <td>1166414.01</td>\n      <td>030617</td>\n    </tr>\n    <tr>\n      <th>3</th>\n      <td>TAIZHOU FEIFAN INTERNATIONAL</td>\n      <td>2022-05</td>\n      <td>102420.00</td>\n      <td>75120.0</td>\n      <td>1021327.12</td>\n      <td>600000.0</td>\n      <td>1729394.44</td>\n      <td>4193487.24</td>\n      <td>030617</td>\n    </tr>\n    <tr>\n      <th>4</th>\n      <td>ZHANJIANG YUEZHIDU FOOD CO LTD</td>\n      <td>2022-10</td>\n      <td>128520.00</td>\n      <td>128520.0</td>\n      <td>673586.60</td>\n      <td>1425793.88</td>\n      <td>1543018.08</td>\n      <td>105909.05</td>\n      <td>030617</td>\n    </tr>\n  </tbody>\n</table>\n</div>"
     },
     "execution_count": 291,
     "metadata": {},
     "output_type": "execute_result"
    }
   ],
   "source": [
    "# Get clean data\n",
    "\n",
    "train_import = importer_df.dropna().sample(frac=1).reset_index(drop=True)\n",
    "\n",
    "print(f'DATA SIZE : {len(train_import)}')\n",
    "train_import.head()"
   ],
   "metadata": {
    "collapsed": false,
    "pycharm": {
     "name": "#%%\n"
    }
   }
  },
  {
   "cell_type": "code",
   "execution_count": 291,
   "outputs": [],
   "source": [],
   "metadata": {
    "collapsed": false,
    "pycharm": {
     "name": "#%%\n"
    }
   }
  },
  {
   "cell_type": "code",
   "execution_count": 291,
   "outputs": [],
   "source": [],
   "metadata": {
    "collapsed": false,
    "pycharm": {
     "name": "#%%\n"
    }
   }
  },
  {
   "cell_type": "markdown",
   "source": [
    "### PYCARET"
   ],
   "metadata": {
    "collapsed": false,
    "pycharm": {
     "name": "#%% md\n"
    }
   }
  },
  {
   "cell_type": "code",
   "execution_count": 328,
   "metadata": {
    "collapsed": false,
    "pycharm": {
     "name": "#%%\n"
    }
   },
   "outputs": [
    {
     "name": "stdout",
     "output_type": "stream",
     "text": [
      "DATA SIZE : 599\n",
      "\n"
     ]
    },
    {
     "data": {
      "text/plain": "                                     rename_importer    month    Quantity  \\\n0   ZHANJIANG SEA WORLD INTERNATIONAL TRADE CO., LTD  2022-10  2576202.25   \n1  CHINATEX RAW MATERIAL INTERNATIONAL TRADING CO...  2022-08    39420.00   \n2                  ZHANJIANG SHENBAO DEVELOPMENT CO   2022-07   442640.00   \n3                       TAIZHOU FEIFAN INTERNATIONAL  2022-05   102420.00   \n4                    ZHANJIANG YUEZHIDU FOOD CO LTD   2022-10   128520.00   \n\n   Net_Weight  Target Price   M-1 Price    M-2 Price    M-3 Price HS code  \n0   2025540.0   12356538.82  3610256.71  20615405.07  17428042.57  030617  \n1     39420.0     270563.82   935818.76   1554945.18    1093104.0  030617  \n2    442640.0    2938739.89  2328073.79   1245766.56   1166414.01  030617  \n3     75120.0    1021327.12    600000.0   1729394.44   4193487.24  030617  \n4    128520.0     673586.60  1425793.88   1543018.08    105909.05  030617  ",
      "text/html": "<div>\n<style scoped>\n    .dataframe tbody tr th:only-of-type {\n        vertical-align: middle;\n    }\n\n    .dataframe tbody tr th {\n        vertical-align: top;\n    }\n\n    .dataframe thead th {\n        text-align: right;\n    }\n</style>\n<table border=\"1\" class=\"dataframe\">\n  <thead>\n    <tr style=\"text-align: right;\">\n      <th></th>\n      <th>rename_importer</th>\n      <th>month</th>\n      <th>Quantity</th>\n      <th>Net_Weight</th>\n      <th>Target Price</th>\n      <th>M-1 Price</th>\n      <th>M-2 Price</th>\n      <th>M-3 Price</th>\n      <th>HS code</th>\n    </tr>\n  </thead>\n  <tbody>\n    <tr>\n      <th>0</th>\n      <td>ZHANJIANG SEA WORLD INTERNATIONAL TRADE CO., LTD</td>\n      <td>2022-10</td>\n      <td>2576202.25</td>\n      <td>2025540.0</td>\n      <td>12356538.82</td>\n      <td>3610256.71</td>\n      <td>20615405.07</td>\n      <td>17428042.57</td>\n      <td>030617</td>\n    </tr>\n    <tr>\n      <th>1</th>\n      <td>CHINATEX RAW MATERIAL INTERNATIONAL TRADING CO...</td>\n      <td>2022-08</td>\n      <td>39420.00</td>\n      <td>39420.0</td>\n      <td>270563.82</td>\n      <td>935818.76</td>\n      <td>1554945.18</td>\n      <td>1093104.0</td>\n      <td>030617</td>\n    </tr>\n    <tr>\n      <th>2</th>\n      <td>ZHANJIANG SHENBAO DEVELOPMENT CO</td>\n      <td>2022-07</td>\n      <td>442640.00</td>\n      <td>442640.0</td>\n      <td>2938739.89</td>\n      <td>2328073.79</td>\n      <td>1245766.56</td>\n      <td>1166414.01</td>\n      <td>030617</td>\n    </tr>\n    <tr>\n      <th>3</th>\n      <td>TAIZHOU FEIFAN INTERNATIONAL</td>\n      <td>2022-05</td>\n      <td>102420.00</td>\n      <td>75120.0</td>\n      <td>1021327.12</td>\n      <td>600000.0</td>\n      <td>1729394.44</td>\n      <td>4193487.24</td>\n      <td>030617</td>\n    </tr>\n    <tr>\n      <th>4</th>\n      <td>ZHANJIANG YUEZHIDU FOOD CO LTD</td>\n      <td>2022-10</td>\n      <td>128520.00</td>\n      <td>128520.0</td>\n      <td>673586.60</td>\n      <td>1425793.88</td>\n      <td>1543018.08</td>\n      <td>105909.05</td>\n      <td>030617</td>\n    </tr>\n  </tbody>\n</table>\n</div>"
     },
     "execution_count": 328,
     "metadata": {},
     "output_type": "execute_result"
    }
   ],
   "source": [
    "'''\n",
    "Convert data for training\n",
    "'''\n",
    "\n",
    "# importer\n",
    "#pycaret_importer = train_import[train_import.columns.drop(['month', 'Quantity', 'Net_Weight', 'HS code'])].copy()\n",
    "\n",
    "pycaret_importer = train_import.copy()\n",
    "\n",
    "print(f'DATA SIZE : {len(pycaret_importer)}\\n')\n",
    "pycaret_importer.head()"
   ]
  },
  {
   "cell_type": "code",
   "execution_count": 328,
   "outputs": [],
   "source": [],
   "metadata": {
    "collapsed": false,
    "pycharm": {
     "name": "#%%\n"
    }
   }
  },
  {
   "cell_type": "code",
   "execution_count": 329,
   "metadata": {
    "collapsed": false,
    "pycharm": {
     "name": "#%%\n"
    }
   },
   "outputs": [
    {
     "data": {
      "text/plain": "<pandas.io.formats.style.Styler at 0x7fcafa2d65e0>",
      "text/html": "<style type=\"text/css\">\n#T_c3e3f_row8_col1 {\n  background-color: lightgreen;\n}\n</style>\n<table id=\"T_c3e3f\">\n  <thead>\n    <tr>\n      <th class=\"blank level0\" >&nbsp;</th>\n      <th id=\"T_c3e3f_level0_col0\" class=\"col_heading level0 col0\" >Description</th>\n      <th id=\"T_c3e3f_level0_col1\" class=\"col_heading level0 col1\" >Value</th>\n    </tr>\n  </thead>\n  <tbody>\n    <tr>\n      <th id=\"T_c3e3f_level0_row0\" class=\"row_heading level0 row0\" >0</th>\n      <td id=\"T_c3e3f_row0_col0\" class=\"data row0 col0\" >Session id</td>\n      <td id=\"T_c3e3f_row0_col1\" class=\"data row0 col1\" >6990</td>\n    </tr>\n    <tr>\n      <th id=\"T_c3e3f_level0_row1\" class=\"row_heading level0 row1\" >1</th>\n      <td id=\"T_c3e3f_row1_col0\" class=\"data row1 col0\" >Target</td>\n      <td id=\"T_c3e3f_row1_col1\" class=\"data row1 col1\" >Target Price</td>\n    </tr>\n    <tr>\n      <th id=\"T_c3e3f_level0_row2\" class=\"row_heading level0 row2\" >2</th>\n      <td id=\"T_c3e3f_row2_col0\" class=\"data row2 col0\" >Target type</td>\n      <td id=\"T_c3e3f_row2_col1\" class=\"data row2 col1\" >regression</td>\n    </tr>\n    <tr>\n      <th id=\"T_c3e3f_level0_row3\" class=\"row_heading level0 row3\" >3</th>\n      <td id=\"T_c3e3f_row3_col0\" class=\"data row3 col0\" >Data shape</td>\n      <td id=\"T_c3e3f_row3_col1\" class=\"data row3 col1\" >(599, 9)</td>\n    </tr>\n    <tr>\n      <th id=\"T_c3e3f_level0_row4\" class=\"row_heading level0 row4\" >4</th>\n      <td id=\"T_c3e3f_row4_col0\" class=\"data row4 col0\" >Train data shape</td>\n      <td id=\"T_c3e3f_row4_col1\" class=\"data row4 col1\" >(419, 9)</td>\n    </tr>\n    <tr>\n      <th id=\"T_c3e3f_level0_row5\" class=\"row_heading level0 row5\" >5</th>\n      <td id=\"T_c3e3f_row5_col0\" class=\"data row5 col0\" >Test data shape</td>\n      <td id=\"T_c3e3f_row5_col1\" class=\"data row5 col1\" >(180, 9)</td>\n    </tr>\n    <tr>\n      <th id=\"T_c3e3f_level0_row6\" class=\"row_heading level0 row6\" >6</th>\n      <td id=\"T_c3e3f_row6_col0\" class=\"data row6 col0\" >Numeric features</td>\n      <td id=\"T_c3e3f_row6_col1\" class=\"data row6 col1\" >2</td>\n    </tr>\n    <tr>\n      <th id=\"T_c3e3f_level0_row7\" class=\"row_heading level0 row7\" >7</th>\n      <td id=\"T_c3e3f_row7_col0\" class=\"data row7 col0\" >Categorical features</td>\n      <td id=\"T_c3e3f_row7_col1\" class=\"data row7 col1\" >6</td>\n    </tr>\n    <tr>\n      <th id=\"T_c3e3f_level0_row8\" class=\"row_heading level0 row8\" >8</th>\n      <td id=\"T_c3e3f_row8_col0\" class=\"data row8 col0\" >Preprocess</td>\n      <td id=\"T_c3e3f_row8_col1\" class=\"data row8 col1\" >True</td>\n    </tr>\n    <tr>\n      <th id=\"T_c3e3f_level0_row9\" class=\"row_heading level0 row9\" >9</th>\n      <td id=\"T_c3e3f_row9_col0\" class=\"data row9 col0\" >Imputation type</td>\n      <td id=\"T_c3e3f_row9_col1\" class=\"data row9 col1\" >simple</td>\n    </tr>\n    <tr>\n      <th id=\"T_c3e3f_level0_row10\" class=\"row_heading level0 row10\" >10</th>\n      <td id=\"T_c3e3f_row10_col0\" class=\"data row10 col0\" >Numeric imputation</td>\n      <td id=\"T_c3e3f_row10_col1\" class=\"data row10 col1\" >mean</td>\n    </tr>\n    <tr>\n      <th id=\"T_c3e3f_level0_row11\" class=\"row_heading level0 row11\" >11</th>\n      <td id=\"T_c3e3f_row11_col0\" class=\"data row11 col0\" >Categorical imputation</td>\n      <td id=\"T_c3e3f_row11_col1\" class=\"data row11 col1\" >constant</td>\n    </tr>\n    <tr>\n      <th id=\"T_c3e3f_level0_row12\" class=\"row_heading level0 row12\" >12</th>\n      <td id=\"T_c3e3f_row12_col0\" class=\"data row12 col0\" >Maximum one-hot encoding</td>\n      <td id=\"T_c3e3f_row12_col1\" class=\"data row12 col1\" >5</td>\n    </tr>\n    <tr>\n      <th id=\"T_c3e3f_level0_row13\" class=\"row_heading level0 row13\" >13</th>\n      <td id=\"T_c3e3f_row13_col0\" class=\"data row13 col0\" >Encoding method</td>\n      <td id=\"T_c3e3f_row13_col1\" class=\"data row13 col1\" >None</td>\n    </tr>\n    <tr>\n      <th id=\"T_c3e3f_level0_row14\" class=\"row_heading level0 row14\" >14</th>\n      <td id=\"T_c3e3f_row14_col0\" class=\"data row14 col0\" >Fold Generator</td>\n      <td id=\"T_c3e3f_row14_col1\" class=\"data row14 col1\" >KFold</td>\n    </tr>\n    <tr>\n      <th id=\"T_c3e3f_level0_row15\" class=\"row_heading level0 row15\" >15</th>\n      <td id=\"T_c3e3f_row15_col0\" class=\"data row15 col0\" >Fold Number</td>\n      <td id=\"T_c3e3f_row15_col1\" class=\"data row15 col1\" >10</td>\n    </tr>\n    <tr>\n      <th id=\"T_c3e3f_level0_row16\" class=\"row_heading level0 row16\" >16</th>\n      <td id=\"T_c3e3f_row16_col0\" class=\"data row16 col0\" >CPU Jobs</td>\n      <td id=\"T_c3e3f_row16_col1\" class=\"data row16 col1\" >10</td>\n    </tr>\n    <tr>\n      <th id=\"T_c3e3f_level0_row17\" class=\"row_heading level0 row17\" >17</th>\n      <td id=\"T_c3e3f_row17_col0\" class=\"data row17 col0\" >Log Experiment</td>\n      <td id=\"T_c3e3f_row17_col1\" class=\"data row17 col1\" >False</td>\n    </tr>\n    <tr>\n      <th id=\"T_c3e3f_level0_row18\" class=\"row_heading level0 row18\" >18</th>\n      <td id=\"T_c3e3f_row18_col0\" class=\"data row18 col0\" >Experiment Name</td>\n      <td id=\"T_c3e3f_row18_col1\" class=\"data row18 col1\" >reg-default-name</td>\n    </tr>\n    <tr>\n      <th id=\"T_c3e3f_level0_row19\" class=\"row_heading level0 row19\" >19</th>\n      <td id=\"T_c3e3f_row19_col0\" class=\"data row19 col0\" >USI</td>\n      <td id=\"T_c3e3f_row19_col1\" class=\"data row19 col1\" >870d</td>\n    </tr>\n  </tbody>\n</table>\n"
     },
     "metadata": {},
     "output_type": "display_data"
    }
   ],
   "source": [
    "'''\n",
    "Apply Automl\n",
    "'''\n",
    "\n",
    "set_up = setup(data = pycaret_importer, target='Target Price', n_jobs=10)"
   ]
  },
  {
   "cell_type": "code",
   "execution_count": 330,
   "metadata": {
    "collapsed": false,
    "pycharm": {
     "name": "#%%\n"
    }
   },
   "outputs": [
    {
     "name": "stdout",
     "output_type": "stream",
     "text": [
      "LIST...\n"
     ]
    }
   ],
   "source": [
    "'''\n",
    "Because of memory issue\n",
    "\n",
    "apply models into differently\n",
    "\n",
    "‘lr’ - Linear Regression\n",
    "‘lasso’ - Lasso Regression\n",
    "‘ridge’ - Ridge Regression\n",
    "‘en’ - Elastic Net\n",
    "‘lar’ - Least Angle Regression\n",
    "‘llar’ - Lasso Least Angle Regression\n",
    "‘omp’ - Orthogonal Matching Pursuit\n",
    "‘br’ - Bayesian Ridge\n",
    "‘ard’ - Automatic Relevance Determination\n",
    "‘par’ - Passive Aggressive Regressor\n",
    "‘ransac’ - Random Sample Consensus\n",
    "‘tr’ - TheilSen Regressor\n",
    "‘huber’ - Huber Regressor\n",
    "‘kr’ - Kernel Ridge\n",
    "‘svm’ - Support Vector Regression\n",
    "‘knn’ - K Neighbors Regressor\n",
    "‘dt’ - Decision Tree Regressor\n",
    "‘rf’ - Random Forest Regressor\n",
    "‘et’ - Extra Trees Regressor\n",
    "‘ada’ - AdaBoost Regressor\n",
    "‘gbr’ - Gradient Boosting Regressor\n",
    "‘mlp’ - MLP Regressor\n",
    "‘xgboost’ - Extreme Gradient Boosting\n",
    "‘lightgbm’ - Light Gradient Boosting Machine\n",
    "‘catboost’ - CatBoost Regressor\n",
    "'''\n",
    "\n",
    "print('LIST...')"
   ]
  },
  {
   "cell_type": "code",
   "execution_count": 331,
   "outputs": [
    {
     "data": {
      "text/plain": "941"
     },
     "execution_count": 331,
     "metadata": {},
     "output_type": "execute_result"
    }
   ],
   "source": [
    "gc.collect()\n"
   ],
   "metadata": {
    "collapsed": false,
    "pycharm": {
     "name": "#%%\n"
    }
   }
  },
  {
   "cell_type": "code",
   "execution_count": 340,
   "metadata": {
    "collapsed": false,
    "pycharm": {
     "name": "#%%\n"
    }
   },
   "outputs": [
    {
     "data": {
      "text/plain": "<pandas.io.formats.style.Styler at 0x7fc1f3344e80>",
      "text/html": "<style type=\"text/css\">\n#T_c5a27 th {\n  text-align: left;\n}\n#T_c5a27_row0_col0, #T_c5a27_row0_col2, #T_c5a27_row0_col3, #T_c5a27_row1_col0, #T_c5a27_row1_col1, #T_c5a27_row1_col2, #T_c5a27_row1_col3, #T_c5a27_row1_col4, #T_c5a27_row1_col5, #T_c5a27_row1_col6, #T_c5a27_row2_col0, #T_c5a27_row2_col1, #T_c5a27_row2_col4, #T_c5a27_row2_col5, #T_c5a27_row2_col6, #T_c5a27_row3_col0, #T_c5a27_row3_col1, #T_c5a27_row3_col2, #T_c5a27_row3_col3, #T_c5a27_row3_col4, #T_c5a27_row3_col5, #T_c5a27_row3_col6, #T_c5a27_row4_col0, #T_c5a27_row4_col1, #T_c5a27_row4_col2, #T_c5a27_row4_col3, #T_c5a27_row4_col4, #T_c5a27_row4_col5, #T_c5a27_row4_col6, #T_c5a27_row5_col0, #T_c5a27_row5_col1, #T_c5a27_row5_col2, #T_c5a27_row5_col3, #T_c5a27_row5_col4, #T_c5a27_row5_col5, #T_c5a27_row5_col6, #T_c5a27_row6_col0, #T_c5a27_row6_col1, #T_c5a27_row6_col2, #T_c5a27_row6_col3, #T_c5a27_row6_col4, #T_c5a27_row6_col5, #T_c5a27_row6_col6, #T_c5a27_row7_col0, #T_c5a27_row7_col1, #T_c5a27_row7_col2, #T_c5a27_row7_col3, #T_c5a27_row7_col4, #T_c5a27_row7_col5, #T_c5a27_row7_col6, #T_c5a27_row8_col0, #T_c5a27_row8_col1, #T_c5a27_row8_col2, #T_c5a27_row8_col3, #T_c5a27_row8_col4, #T_c5a27_row8_col5, #T_c5a27_row8_col6, #T_c5a27_row9_col0, #T_c5a27_row9_col1, #T_c5a27_row9_col2, #T_c5a27_row9_col3, #T_c5a27_row9_col4, #T_c5a27_row9_col5, #T_c5a27_row9_col6, #T_c5a27_row10_col0, #T_c5a27_row10_col1, #T_c5a27_row10_col2, #T_c5a27_row10_col3, #T_c5a27_row10_col4, #T_c5a27_row10_col5, #T_c5a27_row10_col6, #T_c5a27_row11_col0, #T_c5a27_row11_col1, #T_c5a27_row11_col2, #T_c5a27_row11_col3, #T_c5a27_row11_col4, #T_c5a27_row11_col5, #T_c5a27_row11_col6 {\n  text-align: left;\n}\n#T_c5a27_row0_col1, #T_c5a27_row0_col4, #T_c5a27_row0_col5, #T_c5a27_row0_col6, #T_c5a27_row2_col2, #T_c5a27_row2_col3 {\n  text-align: left;\n  background-color: yellow;\n}\n#T_c5a27_row0_col7, #T_c5a27_row1_col7, #T_c5a27_row2_col7, #T_c5a27_row3_col7, #T_c5a27_row4_col7, #T_c5a27_row5_col7, #T_c5a27_row6_col7, #T_c5a27_row7_col7, #T_c5a27_row9_col7, #T_c5a27_row10_col7, #T_c5a27_row11_col7 {\n  text-align: left;\n  background-color: lightgrey;\n}\n#T_c5a27_row8_col7 {\n  text-align: left;\n  background-color: yellow;\n  background-color: lightgrey;\n}\n</style>\n<table id=\"T_c5a27\">\n  <thead>\n    <tr>\n      <th class=\"blank level0\" >&nbsp;</th>\n      <th id=\"T_c5a27_level0_col0\" class=\"col_heading level0 col0\" >Model</th>\n      <th id=\"T_c5a27_level0_col1\" class=\"col_heading level0 col1\" >MAE</th>\n      <th id=\"T_c5a27_level0_col2\" class=\"col_heading level0 col2\" >MSE</th>\n      <th id=\"T_c5a27_level0_col3\" class=\"col_heading level0 col3\" >RMSE</th>\n      <th id=\"T_c5a27_level0_col4\" class=\"col_heading level0 col4\" >R2</th>\n      <th id=\"T_c5a27_level0_col5\" class=\"col_heading level0 col5\" >RMSLE</th>\n      <th id=\"T_c5a27_level0_col6\" class=\"col_heading level0 col6\" >MAPE</th>\n      <th id=\"T_c5a27_level0_col7\" class=\"col_heading level0 col7\" >TT (Sec)</th>\n    </tr>\n  </thead>\n  <tbody>\n    <tr>\n      <th id=\"T_c5a27_level0_row0\" class=\"row_heading level0 row0\" >tr</th>\n      <td id=\"T_c5a27_row0_col0\" class=\"data row0 col0\" >TheilSen Regressor</td>\n      <td id=\"T_c5a27_row0_col1\" class=\"data row0 col1\" >841431.9501</td>\n      <td id=\"T_c5a27_row0_col2\" class=\"data row0 col2\" >6780386770995.6006</td>\n      <td id=\"T_c5a27_row0_col3\" class=\"data row0 col3\" >2272866.7568</td>\n      <td id=\"T_c5a27_row0_col4\" class=\"data row0 col4\" >0.9425</td>\n      <td id=\"T_c5a27_row0_col5\" class=\"data row0 col5\" >0.3695</td>\n      <td id=\"T_c5a27_row0_col6\" class=\"data row0 col6\" >0.2692</td>\n      <td id=\"T_c5a27_row0_col7\" class=\"data row0 col7\" >0.1830</td>\n    </tr>\n    <tr>\n      <th id=\"T_c5a27_level0_row1\" class=\"row_heading level0 row1\" >ransac</th>\n      <td id=\"T_c5a27_row1_col0\" class=\"data row1 col0\" >Random Sample Consensus</td>\n      <td id=\"T_c5a27_row1_col1\" class=\"data row1 col1\" >868373.3296</td>\n      <td id=\"T_c5a27_row1_col2\" class=\"data row1 col2\" >6855966364758.4404</td>\n      <td id=\"T_c5a27_row1_col3\" class=\"data row1 col3\" >2276673.5875</td>\n      <td id=\"T_c5a27_row1_col4\" class=\"data row1 col4\" >0.9418</td>\n      <td id=\"T_c5a27_row1_col5\" class=\"data row1 col5\" >0.4576</td>\n      <td id=\"T_c5a27_row1_col6\" class=\"data row1 col6\" >0.2806</td>\n      <td id=\"T_c5a27_row1_col7\" class=\"data row1 col7\" >0.0220</td>\n    </tr>\n    <tr>\n      <th id=\"T_c5a27_level0_row2\" class=\"row_heading level0 row2\" >omp</th>\n      <td id=\"T_c5a27_row2_col0\" class=\"data row2 col0\" >Orthogonal Matching Pursuit</td>\n      <td id=\"T_c5a27_row2_col1\" class=\"data row2 col1\" >916287.8002</td>\n      <td id=\"T_c5a27_row2_col2\" class=\"data row2 col2\" >5949749217355.9658</td>\n      <td id=\"T_c5a27_row2_col3\" class=\"data row2 col3\" >2155274.2685</td>\n      <td id=\"T_c5a27_row2_col4\" class=\"data row2 col4\" >0.9407</td>\n      <td id=\"T_c5a27_row2_col5\" class=\"data row2 col5\" >0.7300</td>\n      <td id=\"T_c5a27_row2_col6\" class=\"data row2 col6\" >0.5651</td>\n      <td id=\"T_c5a27_row2_col7\" class=\"data row2 col7\" >0.0190</td>\n    </tr>\n    <tr>\n      <th id=\"T_c5a27_level0_row3\" class=\"row_heading level0 row3\" >par</th>\n      <td id=\"T_c5a27_row3_col0\" class=\"data row3 col0\" >Passive Aggressive Regressor</td>\n      <td id=\"T_c5a27_row3_col1\" class=\"data row3 col1\" >1205380.2106</td>\n      <td id=\"T_c5a27_row3_col2\" class=\"data row3 col2\" >6509185218115.3027</td>\n      <td id=\"T_c5a27_row3_col3\" class=\"data row3 col3\" >2290457.0601</td>\n      <td id=\"T_c5a27_row3_col4\" class=\"data row3 col4\" >0.9365</td>\n      <td id=\"T_c5a27_row3_col5\" class=\"data row3 col5\" >0.8946</td>\n      <td id=\"T_c5a27_row3_col6\" class=\"data row3 col6\" >1.2059</td>\n      <td id=\"T_c5a27_row3_col7\" class=\"data row3 col7\" >0.0190</td>\n    </tr>\n    <tr>\n      <th id=\"T_c5a27_level0_row4\" class=\"row_heading level0 row4\" >ard</th>\n      <td id=\"T_c5a27_row4_col0\" class=\"data row4 col0\" >Automatic Relevance Determination</td>\n      <td id=\"T_c5a27_row4_col1\" class=\"data row4 col1\" >977887.9063</td>\n      <td id=\"T_c5a27_row4_col2\" class=\"data row4 col2\" >6146684505469.9316</td>\n      <td id=\"T_c5a27_row4_col3\" class=\"data row4 col3\" >2216668.8823</td>\n      <td id=\"T_c5a27_row4_col4\" class=\"data row4 col4\" >0.9364</td>\n      <td id=\"T_c5a27_row4_col5\" class=\"data row4 col5\" >0.8627</td>\n      <td id=\"T_c5a27_row4_col6\" class=\"data row4 col6\" >0.6477</td>\n      <td id=\"T_c5a27_row4_col7\" class=\"data row4 col7\" >0.0200</td>\n    </tr>\n    <tr>\n      <th id=\"T_c5a27_level0_row5\" class=\"row_heading level0 row5\" >lr</th>\n      <td id=\"T_c5a27_row5_col0\" class=\"data row5 col0\" >Linear Regression</td>\n      <td id=\"T_c5a27_row5_col1\" class=\"data row5 col1\" >994970.0639</td>\n      <td id=\"T_c5a27_row5_col2\" class=\"data row5 col2\" >6139748241440.7793</td>\n      <td id=\"T_c5a27_row5_col3\" class=\"data row5 col3\" >2220120.2266</td>\n      <td id=\"T_c5a27_row5_col4\" class=\"data row5 col4\" >0.9360</td>\n      <td id=\"T_c5a27_row5_col5\" class=\"data row5 col5\" >0.8660</td>\n      <td id=\"T_c5a27_row5_col6\" class=\"data row5 col6\" >0.6972</td>\n      <td id=\"T_c5a27_row5_col7\" class=\"data row5 col7\" >0.7270</td>\n    </tr>\n    <tr>\n      <th id=\"T_c5a27_level0_row6\" class=\"row_heading level0 row6\" >lasso</th>\n      <td id=\"T_c5a27_row6_col0\" class=\"data row6 col0\" >Lasso Regression</td>\n      <td id=\"T_c5a27_row6_col1\" class=\"data row6 col1\" >994965.0339</td>\n      <td id=\"T_c5a27_row6_col2\" class=\"data row6 col2\" >6139733551849.7637</td>\n      <td id=\"T_c5a27_row6_col3\" class=\"data row6 col3\" >2220116.9688</td>\n      <td id=\"T_c5a27_row6_col4\" class=\"data row6 col4\" >0.9360</td>\n      <td id=\"T_c5a27_row6_col5\" class=\"data row6 col5\" >0.8657</td>\n      <td id=\"T_c5a27_row6_col6\" class=\"data row6 col6\" >0.6971</td>\n      <td id=\"T_c5a27_row6_col7\" class=\"data row6 col7\" >0.0220</td>\n    </tr>\n    <tr>\n      <th id=\"T_c5a27_level0_row7\" class=\"row_heading level0 row7\" >ridge</th>\n      <td id=\"T_c5a27_row7_col0\" class=\"data row7 col0\" >Ridge Regression</td>\n      <td id=\"T_c5a27_row7_col1\" class=\"data row7 col1\" >994970.0639</td>\n      <td id=\"T_c5a27_row7_col2\" class=\"data row7 col2\" >6139748241440.7285</td>\n      <td id=\"T_c5a27_row7_col3\" class=\"data row7 col3\" >2220120.2266</td>\n      <td id=\"T_c5a27_row7_col4\" class=\"data row7 col4\" >0.9360</td>\n      <td id=\"T_c5a27_row7_col5\" class=\"data row7 col5\" >0.8660</td>\n      <td id=\"T_c5a27_row7_col6\" class=\"data row7 col6\" >0.6972</td>\n      <td id=\"T_c5a27_row7_col7\" class=\"data row7 col7\" >0.0230</td>\n    </tr>\n    <tr>\n      <th id=\"T_c5a27_level0_row8\" class=\"row_heading level0 row8\" >en</th>\n      <td id=\"T_c5a27_row8_col0\" class=\"data row8 col0\" >Elastic Net</td>\n      <td id=\"T_c5a27_row8_col1\" class=\"data row8 col1\" >994965.0339</td>\n      <td id=\"T_c5a27_row8_col2\" class=\"data row8 col2\" >6139733551839.2441</td>\n      <td id=\"T_c5a27_row8_col3\" class=\"data row8 col3\" >2220116.9688</td>\n      <td id=\"T_c5a27_row8_col4\" class=\"data row8 col4\" >0.9360</td>\n      <td id=\"T_c5a27_row8_col5\" class=\"data row8 col5\" >0.8657</td>\n      <td id=\"T_c5a27_row8_col6\" class=\"data row8 col6\" >0.6971</td>\n      <td id=\"T_c5a27_row8_col7\" class=\"data row8 col7\" >0.0180</td>\n    </tr>\n    <tr>\n      <th id=\"T_c5a27_level0_row9\" class=\"row_heading level0 row9\" >lar</th>\n      <td id=\"T_c5a27_row9_col0\" class=\"data row9 col0\" >Least Angle Regression</td>\n      <td id=\"T_c5a27_row9_col1\" class=\"data row9 col1\" >994970.0639</td>\n      <td id=\"T_c5a27_row9_col2\" class=\"data row9 col2\" >6139748241440.8223</td>\n      <td id=\"T_c5a27_row9_col3\" class=\"data row9 col3\" >2220120.2266</td>\n      <td id=\"T_c5a27_row9_col4\" class=\"data row9 col4\" >0.9360</td>\n      <td id=\"T_c5a27_row9_col5\" class=\"data row9 col5\" >0.8660</td>\n      <td id=\"T_c5a27_row9_col6\" class=\"data row9 col6\" >0.6972</td>\n      <td id=\"T_c5a27_row9_col7\" class=\"data row9 col7\" >0.0210</td>\n    </tr>\n    <tr>\n      <th id=\"T_c5a27_level0_row10\" class=\"row_heading level0 row10\" >llar</th>\n      <td id=\"T_c5a27_row10_col0\" class=\"data row10 col0\" >Lasso Least Angle Regression</td>\n      <td id=\"T_c5a27_row10_col1\" class=\"data row10 col1\" >994958.8206</td>\n      <td id=\"T_c5a27_row10_col2\" class=\"data row10 col2\" >6139740760441.0840</td>\n      <td id=\"T_c5a27_row10_col3\" class=\"data row10 col3\" >2220116.0432</td>\n      <td id=\"T_c5a27_row10_col4\" class=\"data row10 col4\" >0.9360</td>\n      <td id=\"T_c5a27_row10_col5\" class=\"data row10 col5\" >0.8654</td>\n      <td id=\"T_c5a27_row10_col6\" class=\"data row10 col6\" >0.6971</td>\n      <td id=\"T_c5a27_row10_col7\" class=\"data row10 col7\" >0.0210</td>\n    </tr>\n    <tr>\n      <th id=\"T_c5a27_level0_row11\" class=\"row_heading level0 row11\" >br</th>\n      <td id=\"T_c5a27_row11_col0\" class=\"data row11 col0\" >Bayesian Ridge</td>\n      <td id=\"T_c5a27_row11_col1\" class=\"data row11 col1\" >1004581.2744</td>\n      <td id=\"T_c5a27_row11_col2\" class=\"data row11 col2\" >6114770763040.3223</td>\n      <td id=\"T_c5a27_row11_col3\" class=\"data row11 col3\" >2218898.7404</td>\n      <td id=\"T_c5a27_row11_col4\" class=\"data row11 col4\" >0.9359</td>\n      <td id=\"T_c5a27_row11_col5\" class=\"data row11 col5\" >0.8351</td>\n      <td id=\"T_c5a27_row11_col6\" class=\"data row11 col6\" >0.7270</td>\n      <td id=\"T_c5a27_row11_col7\" class=\"data row11 col7\" >0.0210</td>\n    </tr>\n  </tbody>\n</table>\n"
     },
     "metadata": {},
     "output_type": "display_data"
    }
   ],
   "source": [
    "# Train the first list\n",
    "\n",
    "best_1 = compare_models(n_select=5,\n",
    "                        include = [\n",
    "                            'lr',\n",
    "                            'lasso',\n",
    "                            'ridge',\n",
    "                            'en',\n",
    "                            'lar',\n",
    "                            'llar',\n",
    "                            'omp',\n",
    "                            'br',\n",
    "                            'ard',\n",
    "                            'par',\n",
    "                            'ransac',\n",
    "                            'tr',\n",
    "                        ])"
   ]
  },
  {
   "cell_type": "code",
   "execution_count": 343,
   "outputs": [
    {
     "data": {
      "text/plain": "<pandas.io.formats.style.Styler at 0x7fc1f45bcf40>",
      "text/html": "<style type=\"text/css\">\n#T_1e81f th {\n  text-align: left;\n}\n#T_1e81f_row0_col0, #T_1e81f_row0_col2, #T_1e81f_row0_col3, #T_1e81f_row0_col5, #T_1e81f_row0_col6, #T_1e81f_row1_col0, #T_1e81f_row1_col1, #T_1e81f_row1_col4, #T_1e81f_row1_col5, #T_1e81f_row1_col6, #T_1e81f_row2_col0, #T_1e81f_row2_col1, #T_1e81f_row2_col2, #T_1e81f_row2_col3, #T_1e81f_row2_col4, #T_1e81f_row2_col5, #T_1e81f_row2_col6, #T_1e81f_row3_col0, #T_1e81f_row3_col1, #T_1e81f_row3_col2, #T_1e81f_row3_col3, #T_1e81f_row3_col4, #T_1e81f_row4_col0, #T_1e81f_row4_col1, #T_1e81f_row4_col2, #T_1e81f_row4_col3, #T_1e81f_row4_col4, #T_1e81f_row4_col5, #T_1e81f_row4_col6, #T_1e81f_row5_col0, #T_1e81f_row5_col1, #T_1e81f_row5_col2, #T_1e81f_row5_col3, #T_1e81f_row5_col4, #T_1e81f_row5_col5, #T_1e81f_row6_col0, #T_1e81f_row6_col1, #T_1e81f_row6_col2, #T_1e81f_row6_col3, #T_1e81f_row6_col4, #T_1e81f_row6_col5, #T_1e81f_row6_col6, #T_1e81f_row7_col0, #T_1e81f_row7_col1, #T_1e81f_row7_col2, #T_1e81f_row7_col3, #T_1e81f_row7_col4, #T_1e81f_row7_col5, #T_1e81f_row7_col6, #T_1e81f_row8_col0, #T_1e81f_row8_col1, #T_1e81f_row8_col2, #T_1e81f_row8_col3, #T_1e81f_row8_col4, #T_1e81f_row8_col5, #T_1e81f_row8_col6, #T_1e81f_row9_col0, #T_1e81f_row9_col1, #T_1e81f_row9_col2, #T_1e81f_row9_col3, #T_1e81f_row9_col4, #T_1e81f_row9_col5, #T_1e81f_row9_col6 {\n  text-align: left;\n}\n#T_1e81f_row0_col1, #T_1e81f_row0_col4, #T_1e81f_row1_col2, #T_1e81f_row1_col3, #T_1e81f_row3_col5, #T_1e81f_row3_col6, #T_1e81f_row5_col6 {\n  text-align: left;\n  background-color: yellow;\n}\n#T_1e81f_row0_col7, #T_1e81f_row1_col7, #T_1e81f_row2_col7, #T_1e81f_row3_col7, #T_1e81f_row4_col7, #T_1e81f_row5_col7, #T_1e81f_row6_col7, #T_1e81f_row7_col7 {\n  text-align: left;\n  background-color: lightgrey;\n}\n#T_1e81f_row8_col7, #T_1e81f_row9_col7 {\n  text-align: left;\n  background-color: yellow;\n  background-color: lightgrey;\n}\n</style>\n<table id=\"T_1e81f\">\n  <thead>\n    <tr>\n      <th class=\"blank level0\" >&nbsp;</th>\n      <th id=\"T_1e81f_level0_col0\" class=\"col_heading level0 col0\" >Model</th>\n      <th id=\"T_1e81f_level0_col1\" class=\"col_heading level0 col1\" >MAE</th>\n      <th id=\"T_1e81f_level0_col2\" class=\"col_heading level0 col2\" >MSE</th>\n      <th id=\"T_1e81f_level0_col3\" class=\"col_heading level0 col3\" >RMSE</th>\n      <th id=\"T_1e81f_level0_col4\" class=\"col_heading level0 col4\" >R2</th>\n      <th id=\"T_1e81f_level0_col5\" class=\"col_heading level0 col5\" >RMSLE</th>\n      <th id=\"T_1e81f_level0_col6\" class=\"col_heading level0 col6\" >MAPE</th>\n      <th id=\"T_1e81f_level0_col7\" class=\"col_heading level0 col7\" >TT (Sec)</th>\n    </tr>\n  </thead>\n  <tbody>\n    <tr>\n      <th id=\"T_1e81f_level0_row0\" class=\"row_heading level0 row0\" >huber</th>\n      <td id=\"T_1e81f_row0_col0\" class=\"data row0 col0\" >Huber Regressor</td>\n      <td id=\"T_1e81f_row0_col1\" class=\"data row0 col1\" >842488.9483</td>\n      <td id=\"T_1e81f_row0_col2\" class=\"data row0 col2\" >6201885492545.2607</td>\n      <td id=\"T_1e81f_row0_col3\" class=\"data row0 col3\" >2176161.0548</td>\n      <td id=\"T_1e81f_row0_col4\" class=\"data row0 col4\" >0.9452</td>\n      <td id=\"T_1e81f_row0_col5\" class=\"data row0 col5\" >0.4680</td>\n      <td id=\"T_1e81f_row0_col6\" class=\"data row0 col6\" >0.2869</td>\n      <td id=\"T_1e81f_row0_col7\" class=\"data row0 col7\" >0.0370</td>\n    </tr>\n    <tr>\n      <th id=\"T_1e81f_level0_row1\" class=\"row_heading level0 row1\" >mlp</th>\n      <td id=\"T_1e81f_row1_col0\" class=\"data row1 col0\" >MLP Regressor</td>\n      <td id=\"T_1e81f_row1_col1\" class=\"data row1 col1\" >966773.3957</td>\n      <td id=\"T_1e81f_row1_col2\" class=\"data row1 col2\" >5661150464702.7373</td>\n      <td id=\"T_1e81f_row1_col3\" class=\"data row1 col3\" >2159416.7477</td>\n      <td id=\"T_1e81f_row1_col4\" class=\"data row1 col4\" >0.9421</td>\n      <td id=\"T_1e81f_row1_col5\" class=\"data row1 col5\" >0.7449</td>\n      <td id=\"T_1e81f_row1_col6\" class=\"data row1 col6\" >0.6422</td>\n      <td id=\"T_1e81f_row1_col7\" class=\"data row1 col7\" >0.1330</td>\n    </tr>\n    <tr>\n      <th id=\"T_1e81f_level0_row2\" class=\"row_heading level0 row2\" >kr</th>\n      <td id=\"T_1e81f_row2_col0\" class=\"data row2 col0\" >Kernel Ridge</td>\n      <td id=\"T_1e81f_row2_col1\" class=\"data row2 col1\" >987366.6949</td>\n      <td id=\"T_1e81f_row2_col2\" class=\"data row2 col2\" >6064983361250.3496</td>\n      <td id=\"T_1e81f_row2_col3\" class=\"data row2 col3\" >2191706.0874</td>\n      <td id=\"T_1e81f_row2_col4\" class=\"data row2 col4\" >0.9398</td>\n      <td id=\"T_1e81f_row2_col5\" class=\"data row2 col5\" >0.7858</td>\n      <td id=\"T_1e81f_row2_col6\" class=\"data row2 col6\" >0.6249</td>\n      <td id=\"T_1e81f_row2_col7\" class=\"data row2 col7\" >0.0230</td>\n    </tr>\n    <tr>\n      <th id=\"T_1e81f_level0_row3\" class=\"row_heading level0 row3\" >et</th>\n      <td id=\"T_1e81f_row3_col0\" class=\"data row3 col0\" >Extra Trees Regressor</td>\n      <td id=\"T_1e81f_row3_col1\" class=\"data row3 col1\" >1005067.3656</td>\n      <td id=\"T_1e81f_row3_col2\" class=\"data row3 col2\" >11131370971343.8730</td>\n      <td id=\"T_1e81f_row3_col3\" class=\"data row3 col3\" >2762901.1265</td>\n      <td id=\"T_1e81f_row3_col4\" class=\"data row3 col4\" >0.9170</td>\n      <td id=\"T_1e81f_row3_col5\" class=\"data row3 col5\" >0.2873</td>\n      <td id=\"T_1e81f_row3_col6\" class=\"data row3 col6\" >0.2354</td>\n      <td id=\"T_1e81f_row3_col7\" class=\"data row3 col7\" >0.0500</td>\n    </tr>\n    <tr>\n      <th id=\"T_1e81f_level0_row4\" class=\"row_heading level0 row4\" >gbr</th>\n      <td id=\"T_1e81f_row4_col0\" class=\"data row4 col0\" >Gradient Boosting Regressor</td>\n      <td id=\"T_1e81f_row4_col1\" class=\"data row4 col1\" >1047656.9696</td>\n      <td id=\"T_1e81f_row4_col2\" class=\"data row4 col2\" >11866647454556.7461</td>\n      <td id=\"T_1e81f_row4_col3\" class=\"data row4 col3\" >2873291.8339</td>\n      <td id=\"T_1e81f_row4_col4\" class=\"data row4 col4\" >0.9134</td>\n      <td id=\"T_1e81f_row4_col5\" class=\"data row4 col5\" >0.3933</td>\n      <td id=\"T_1e81f_row4_col6\" class=\"data row4 col6\" >0.3403</td>\n      <td id=\"T_1e81f_row4_col7\" class=\"data row4 col7\" >0.0320</td>\n    </tr>\n    <tr>\n      <th id=\"T_1e81f_level0_row5\" class=\"row_heading level0 row5\" >rf</th>\n      <td id=\"T_1e81f_row5_col0\" class=\"data row5 col0\" >Random Forest Regressor</td>\n      <td id=\"T_1e81f_row5_col1\" class=\"data row5 col1\" >1011589.9495</td>\n      <td id=\"T_1e81f_row5_col2\" class=\"data row5 col2\" >11036280469040.4062</td>\n      <td id=\"T_1e81f_row5_col3\" class=\"data row5 col3\" >2782475.7292</td>\n      <td id=\"T_1e81f_row5_col4\" class=\"data row5 col4\" >0.9133</td>\n      <td id=\"T_1e81f_row5_col5\" class=\"data row5 col5\" >0.2880</td>\n      <td id=\"T_1e81f_row5_col6\" class=\"data row5 col6\" >0.2354</td>\n      <td id=\"T_1e81f_row5_col7\" class=\"data row5 col7\" >0.0550</td>\n    </tr>\n    <tr>\n      <th id=\"T_1e81f_level0_row6\" class=\"row_heading level0 row6\" >ada</th>\n      <td id=\"T_1e81f_row6_col0\" class=\"data row6 col0\" >AdaBoost Regressor</td>\n      <td id=\"T_1e81f_row6_col1\" class=\"data row6 col1\" >1600895.5053</td>\n      <td id=\"T_1e81f_row6_col2\" class=\"data row6 col2\" >14299939795910.1445</td>\n      <td id=\"T_1e81f_row6_col3\" class=\"data row6 col3\" >3321420.5355</td>\n      <td id=\"T_1e81f_row6_col4\" class=\"data row6 col4\" >0.8604</td>\n      <td id=\"T_1e81f_row6_col5\" class=\"data row6 col5\" >1.1145</td>\n      <td id=\"T_1e81f_row6_col6\" class=\"data row6 col6\" >2.3152</td>\n      <td id=\"T_1e81f_row6_col7\" class=\"data row6 col7\" >0.0300</td>\n    </tr>\n    <tr>\n      <th id=\"T_1e81f_level0_row7\" class=\"row_heading level0 row7\" >dt</th>\n      <td id=\"T_1e81f_row7_col0\" class=\"data row7 col0\" >Decision Tree Regressor</td>\n      <td id=\"T_1e81f_row7_col1\" class=\"data row7 col1\" >1330434.4383</td>\n      <td id=\"T_1e81f_row7_col2\" class=\"data row7 col2\" >19502965824655.0625</td>\n      <td id=\"T_1e81f_row7_col3\" class=\"data row7 col3\" >3694508.4921</td>\n      <td id=\"T_1e81f_row7_col4\" class=\"data row7 col4\" >0.8472</td>\n      <td id=\"T_1e81f_row7_col5\" class=\"data row7 col5\" >0.3697</td>\n      <td id=\"T_1e81f_row7_col6\" class=\"data row7 col6\" >0.3008</td>\n      <td id=\"T_1e81f_row7_col7\" class=\"data row7 col7\" >0.0280</td>\n    </tr>\n    <tr>\n      <th id=\"T_1e81f_level0_row8\" class=\"row_heading level0 row8\" >knn</th>\n      <td id=\"T_1e81f_row8_col0\" class=\"data row8 col0\" >K Neighbors Regressor</td>\n      <td id=\"T_1e81f_row8_col1\" class=\"data row8 col1\" >2101932.3750</td>\n      <td id=\"T_1e81f_row8_col2\" class=\"data row8 col2\" >39721829190860.7969</td>\n      <td id=\"T_1e81f_row8_col3\" class=\"data row8 col3\" >5697855.2250</td>\n      <td id=\"T_1e81f_row8_col4\" class=\"data row8 col4\" >0.4217</td>\n      <td id=\"T_1e81f_row8_col5\" class=\"data row8 col5\" >0.8825</td>\n      <td id=\"T_1e81f_row8_col6\" class=\"data row8 col6\" >1.5892</td>\n      <td id=\"T_1e81f_row8_col7\" class=\"data row8 col7\" >0.0220</td>\n    </tr>\n    <tr>\n      <th id=\"T_1e81f_level0_row9\" class=\"row_heading level0 row9\" >svm</th>\n      <td id=\"T_1e81f_row9_col0\" class=\"data row9 col0\" >Support Vector Regression</td>\n      <td id=\"T_1e81f_row9_col1\" class=\"data row9 col1\" >4156153.9418</td>\n      <td id=\"T_1e81f_row9_col2\" class=\"data row9 col2\" >120336716378962.0781</td>\n      <td id=\"T_1e81f_row9_col3\" class=\"data row9 col3\" >10052654.1643</td>\n      <td id=\"T_1e81f_row9_col4\" class=\"data row9 col4\" >-0.1319</td>\n      <td id=\"T_1e81f_row9_col5\" class=\"data row9 col5\" >1.5180</td>\n      <td id=\"T_1e81f_row9_col6\" class=\"data row9 col6\" >2.3106</td>\n      <td id=\"T_1e81f_row9_col7\" class=\"data row9 col7\" >0.0220</td>\n    </tr>\n  </tbody>\n</table>\n"
     },
     "metadata": {},
     "output_type": "display_data"
    }
   ],
   "source": [
    "# Train the second list\n",
    "\n",
    "best_2 = compare_models(n_select=5,\n",
    "                        include = [\n",
    "                            'huber',\n",
    "                            'kr',\n",
    "                            'svm',\n",
    "                            'knn',\n",
    "                            'dt',\n",
    "                            'rf',\n",
    "                            'et',\n",
    "                            'ada',\n",
    "                            'gbr',\n",
    "                            'mlp',\n",
    "                            'lightgbm',\n",
    "                        ])"
   ],
   "metadata": {
    "collapsed": false,
    "pycharm": {
     "name": "#%%\n"
    }
   }
  },
  {
   "cell_type": "code",
   "execution_count": null,
   "outputs": [],
   "source": [],
   "metadata": {
    "collapsed": false,
    "pycharm": {
     "name": "#%%\n"
    }
   }
  },
  {
   "cell_type": "code",
   "execution_count": null,
   "outputs": [],
   "source": [],
   "metadata": {
    "collapsed": false,
    "pycharm": {
     "name": "#%%\n"
    }
   }
  },
  {
   "cell_type": "code",
   "execution_count": null,
   "outputs": [],
   "source": [],
   "metadata": {
    "collapsed": false,
    "pycharm": {
     "name": "#%%\n"
    }
   }
  },
  {
   "cell_type": "code",
   "execution_count": 345,
   "outputs": [
    {
     "name": "stdout",
     "output_type": "stream",
     "text": [
      "BEST LIST : [TheilSenRegressor(max_iter=1000, n_jobs=10, random_state=6990), RANSACRegressor(random_state=6990), OrthogonalMatchingPursuit(), PassiveAggressiveRegressor(random_state=6990), ARDRegression(n_iter=1000)]\n",
      "\n",
      "BEST LIST : [HuberRegressor(), MLPRegressor(max_iter=500, random_state=6990), KernelRidge(), ExtraTreesRegressor(n_jobs=10, random_state=6990), GradientBoostingRegressor(random_state=6990)]\n",
      "\n"
     ]
    }
   ],
   "source": [
    "'''\n",
    "Check the model performance\n",
    "'''\n",
    "\n",
    "print(f'BEST LIST : {best_1}\\n')\n",
    "\n",
    "print(f'BEST LIST : {best_2}\\n')"
   ],
   "metadata": {
    "collapsed": false,
    "pycharm": {
     "name": "#%%\n"
    }
   }
  },
  {
   "cell_type": "code",
   "execution_count": 349,
   "metadata": {
    "collapsed": false,
    "pycharm": {
     "name": "#%%\n"
    }
   },
   "outputs": [
    {
     "name": "stdout",
     "output_type": "stream",
     "text": [
      "MODEL NAME : HuberRegressor()\n",
      "\n"
     ]
    },
    {
     "data": {
      "text/plain": "                                       rename_importer    month    Quantity  \\\n0     ZHANJIANG SEA WORLD INTERNATIONAL TRADE CO., LTD  2022-10  2576202.25   \n1    CHINATEX RAW MATERIAL INTERNATIONAL TRADING CO...  2022-08    39420.00   \n2                    ZHANJIANG SHENBAO DEVELOPMENT CO   2022-07   442640.00   \n3                         TAIZHOU FEIFAN INTERNATIONAL  2022-05   102420.00   \n4                      ZHANJIANG YUEZHIDU FOOD CO LTD   2022-10   128520.00   \n..                                                 ...      ...         ...   \n594                HANGZHOU GEXIN IMPORT & EXPORT CO.   2022-05   815250.00   \n595  CHANGSHA COUNTRY PILOT INTERNATIONAL TRADE CO....  2022-06   840420.00   \n596                           CONSIGNEE/THIRD PARTY :   2022-12    73440.00   \n597   GUANGDONG HONGBAO AQUATIC DEVELOPM ENT CO., LTD.  2022-06  2702101.72   \n598                      SHANDONG WEIYI FOODS CO. LTD   2022-09    18360.00   \n\n     Net_Weight    M-1 Price    M-2 Price    M-3 Price HS code         Label  \n0     2025540.0   3610256.71  20615405.07  17428042.57  030617  1.820390e+07  \n1       39420.0    935818.76   1554945.18    1093104.0  030617  2.074181e+05  \n2      442640.0   2328073.79   1245766.56   1166414.01  030617  3.047241e+06  \n3       75120.0     600000.0   1729394.44   4193487.24  030617  8.218584e+05  \n4      128520.0   1425793.88   1543018.08    105909.05  030617  8.147618e+05  \n..          ...          ...          ...          ...     ...           ...  \n594    815250.0   3489893.58   2105480.23   3946382.88  030617  5.710861e+06  \n595    732972.0   5053863.88  11886968.72   8109694.36  030617  5.910600e+06  \n596     73440.0   1008574.91   2551965.83   1227877.94  030617  3.532756e+05  \n597   2469505.0  13875799.52   9113067.04    8901232.3  030617  1.903454e+07  \n598     18360.0    577662.79   2437018.75   1138472.25  030617  1.170447e+05  \n\n[599 rows x 9 columns]",
      "text/html": "<div>\n<style scoped>\n    .dataframe tbody tr th:only-of-type {\n        vertical-align: middle;\n    }\n\n    .dataframe tbody tr th {\n        vertical-align: top;\n    }\n\n    .dataframe thead th {\n        text-align: right;\n    }\n</style>\n<table border=\"1\" class=\"dataframe\">\n  <thead>\n    <tr style=\"text-align: right;\">\n      <th></th>\n      <th>rename_importer</th>\n      <th>month</th>\n      <th>Quantity</th>\n      <th>Net_Weight</th>\n      <th>M-1 Price</th>\n      <th>M-2 Price</th>\n      <th>M-3 Price</th>\n      <th>HS code</th>\n      <th>Label</th>\n    </tr>\n  </thead>\n  <tbody>\n    <tr>\n      <th>0</th>\n      <td>ZHANJIANG SEA WORLD INTERNATIONAL TRADE CO., LTD</td>\n      <td>2022-10</td>\n      <td>2576202.25</td>\n      <td>2025540.0</td>\n      <td>3610256.71</td>\n      <td>20615405.07</td>\n      <td>17428042.57</td>\n      <td>030617</td>\n      <td>1.820390e+07</td>\n    </tr>\n    <tr>\n      <th>1</th>\n      <td>CHINATEX RAW MATERIAL INTERNATIONAL TRADING CO...</td>\n      <td>2022-08</td>\n      <td>39420.00</td>\n      <td>39420.0</td>\n      <td>935818.76</td>\n      <td>1554945.18</td>\n      <td>1093104.0</td>\n      <td>030617</td>\n      <td>2.074181e+05</td>\n    </tr>\n    <tr>\n      <th>2</th>\n      <td>ZHANJIANG SHENBAO DEVELOPMENT CO</td>\n      <td>2022-07</td>\n      <td>442640.00</td>\n      <td>442640.0</td>\n      <td>2328073.79</td>\n      <td>1245766.56</td>\n      <td>1166414.01</td>\n      <td>030617</td>\n      <td>3.047241e+06</td>\n    </tr>\n    <tr>\n      <th>3</th>\n      <td>TAIZHOU FEIFAN INTERNATIONAL</td>\n      <td>2022-05</td>\n      <td>102420.00</td>\n      <td>75120.0</td>\n      <td>600000.0</td>\n      <td>1729394.44</td>\n      <td>4193487.24</td>\n      <td>030617</td>\n      <td>8.218584e+05</td>\n    </tr>\n    <tr>\n      <th>4</th>\n      <td>ZHANJIANG YUEZHIDU FOOD CO LTD</td>\n      <td>2022-10</td>\n      <td>128520.00</td>\n      <td>128520.0</td>\n      <td>1425793.88</td>\n      <td>1543018.08</td>\n      <td>105909.05</td>\n      <td>030617</td>\n      <td>8.147618e+05</td>\n    </tr>\n    <tr>\n      <th>...</th>\n      <td>...</td>\n      <td>...</td>\n      <td>...</td>\n      <td>...</td>\n      <td>...</td>\n      <td>...</td>\n      <td>...</td>\n      <td>...</td>\n      <td>...</td>\n    </tr>\n    <tr>\n      <th>594</th>\n      <td>HANGZHOU GEXIN IMPORT &amp; EXPORT CO.</td>\n      <td>2022-05</td>\n      <td>815250.00</td>\n      <td>815250.0</td>\n      <td>3489893.58</td>\n      <td>2105480.23</td>\n      <td>3946382.88</td>\n      <td>030617</td>\n      <td>5.710861e+06</td>\n    </tr>\n    <tr>\n      <th>595</th>\n      <td>CHANGSHA COUNTRY PILOT INTERNATIONAL TRADE CO....</td>\n      <td>2022-06</td>\n      <td>840420.00</td>\n      <td>732972.0</td>\n      <td>5053863.88</td>\n      <td>11886968.72</td>\n      <td>8109694.36</td>\n      <td>030617</td>\n      <td>5.910600e+06</td>\n    </tr>\n    <tr>\n      <th>596</th>\n      <td>CONSIGNEE/THIRD PARTY :</td>\n      <td>2022-12</td>\n      <td>73440.00</td>\n      <td>73440.0</td>\n      <td>1008574.91</td>\n      <td>2551965.83</td>\n      <td>1227877.94</td>\n      <td>030617</td>\n      <td>3.532756e+05</td>\n    </tr>\n    <tr>\n      <th>597</th>\n      <td>GUANGDONG HONGBAO AQUATIC DEVELOPM ENT CO., LTD.</td>\n      <td>2022-06</td>\n      <td>2702101.72</td>\n      <td>2469505.0</td>\n      <td>13875799.52</td>\n      <td>9113067.04</td>\n      <td>8901232.3</td>\n      <td>030617</td>\n      <td>1.903454e+07</td>\n    </tr>\n    <tr>\n      <th>598</th>\n      <td>SHANDONG WEIYI FOODS CO. LTD</td>\n      <td>2022-09</td>\n      <td>18360.00</td>\n      <td>18360.0</td>\n      <td>577662.79</td>\n      <td>2437018.75</td>\n      <td>1138472.25</td>\n      <td>030617</td>\n      <td>1.170447e+05</td>\n    </tr>\n  </tbody>\n</table>\n<p>599 rows × 9 columns</p>\n</div>"
     },
     "execution_count": 349,
     "metadata": {},
     "output_type": "execute_result"
    }
   ],
   "source": [
    "# Predict model\n",
    "\n",
    "model_ = best_2\n",
    "rank_ = 0\n",
    "\n",
    "print(f'MODEL NAME : {model_[rank_]}\\n')\n",
    "predict_model(model_[rank_], data = pycaret_importer)"
   ]
  },
  {
   "cell_type": "code",
   "execution_count": 350,
   "outputs": [
    {
     "data": {
      "text/plain": "                                       rename_importer    month    Quantity  \\\n0     ZHANJIANG SEA WORLD INTERNATIONAL TRADE CO., LTD  2022-10  2576202.25   \n1    CHINATEX RAW MATERIAL INTERNATIONAL TRADING CO...  2022-08    39420.00   \n2                    ZHANJIANG SHENBAO DEVELOPMENT CO   2022-07   442640.00   \n3                         TAIZHOU FEIFAN INTERNATIONAL  2022-05   102420.00   \n4                      ZHANJIANG YUEZHIDU FOOD CO LTD   2022-10   128520.00   \n..                                                 ...      ...         ...   \n594                HANGZHOU GEXIN IMPORT & EXPORT CO.   2022-05   815250.00   \n595  CHANGSHA COUNTRY PILOT INTERNATIONAL TRADE CO....  2022-06   840420.00   \n596                           CONSIGNEE/THIRD PARTY :   2022-12    73440.00   \n597   GUANGDONG HONGBAO AQUATIC DEVELOPM ENT CO., LTD.  2022-06  2702101.72   \n598                      SHANDONG WEIYI FOODS CO. LTD   2022-09    18360.00   \n\n     Net_Weight  Target Price    M-1 Price    M-2 Price    M-3 Price HS code  \n0     2025540.0   12356538.82   3610256.71  20615405.07  17428042.57  030617  \n1       39420.0     270563.82    935818.76   1554945.18    1093104.0  030617  \n2      442640.0    2938739.89   2328073.79   1245766.56   1166414.01  030617  \n3       75120.0    1021327.12     600000.0   1729394.44   4193487.24  030617  \n4      128520.0     673586.60   1425793.88   1543018.08    105909.05  030617  \n..          ...           ...          ...          ...          ...     ...  \n594    815250.0    5887626.70   3489893.58   2105480.23   3946382.88  030617  \n595    732972.0    6002865.50   5053863.88  11886968.72   8109694.36  030617  \n596     73440.0     362963.90   1008574.91   2551965.83   1227877.94  030617  \n597   2469505.0   19355617.15  13875799.52   9113067.04    8901232.3  030617  \n598     18360.0     114218.54    577662.79   2437018.75   1138472.25  030617  \n\n[599 rows x 9 columns]",
      "text/html": "<div>\n<style scoped>\n    .dataframe tbody tr th:only-of-type {\n        vertical-align: middle;\n    }\n\n    .dataframe tbody tr th {\n        vertical-align: top;\n    }\n\n    .dataframe thead th {\n        text-align: right;\n    }\n</style>\n<table border=\"1\" class=\"dataframe\">\n  <thead>\n    <tr style=\"text-align: right;\">\n      <th></th>\n      <th>rename_importer</th>\n      <th>month</th>\n      <th>Quantity</th>\n      <th>Net_Weight</th>\n      <th>Target Price</th>\n      <th>M-1 Price</th>\n      <th>M-2 Price</th>\n      <th>M-3 Price</th>\n      <th>HS code</th>\n    </tr>\n  </thead>\n  <tbody>\n    <tr>\n      <th>0</th>\n      <td>ZHANJIANG SEA WORLD INTERNATIONAL TRADE CO., LTD</td>\n      <td>2022-10</td>\n      <td>2576202.25</td>\n      <td>2025540.0</td>\n      <td>12356538.82</td>\n      <td>3610256.71</td>\n      <td>20615405.07</td>\n      <td>17428042.57</td>\n      <td>030617</td>\n    </tr>\n    <tr>\n      <th>1</th>\n      <td>CHINATEX RAW MATERIAL INTERNATIONAL TRADING CO...</td>\n      <td>2022-08</td>\n      <td>39420.00</td>\n      <td>39420.0</td>\n      <td>270563.82</td>\n      <td>935818.76</td>\n      <td>1554945.18</td>\n      <td>1093104.0</td>\n      <td>030617</td>\n    </tr>\n    <tr>\n      <th>2</th>\n      <td>ZHANJIANG SHENBAO DEVELOPMENT CO</td>\n      <td>2022-07</td>\n      <td>442640.00</td>\n      <td>442640.0</td>\n      <td>2938739.89</td>\n      <td>2328073.79</td>\n      <td>1245766.56</td>\n      <td>1166414.01</td>\n      <td>030617</td>\n    </tr>\n    <tr>\n      <th>3</th>\n      <td>TAIZHOU FEIFAN INTERNATIONAL</td>\n      <td>2022-05</td>\n      <td>102420.00</td>\n      <td>75120.0</td>\n      <td>1021327.12</td>\n      <td>600000.0</td>\n      <td>1729394.44</td>\n      <td>4193487.24</td>\n      <td>030617</td>\n    </tr>\n    <tr>\n      <th>4</th>\n      <td>ZHANJIANG YUEZHIDU FOOD CO LTD</td>\n      <td>2022-10</td>\n      <td>128520.00</td>\n      <td>128520.0</td>\n      <td>673586.60</td>\n      <td>1425793.88</td>\n      <td>1543018.08</td>\n      <td>105909.05</td>\n      <td>030617</td>\n    </tr>\n    <tr>\n      <th>...</th>\n      <td>...</td>\n      <td>...</td>\n      <td>...</td>\n      <td>...</td>\n      <td>...</td>\n      <td>...</td>\n      <td>...</td>\n      <td>...</td>\n      <td>...</td>\n    </tr>\n    <tr>\n      <th>594</th>\n      <td>HANGZHOU GEXIN IMPORT &amp; EXPORT CO.</td>\n      <td>2022-05</td>\n      <td>815250.00</td>\n      <td>815250.0</td>\n      <td>5887626.70</td>\n      <td>3489893.58</td>\n      <td>2105480.23</td>\n      <td>3946382.88</td>\n      <td>030617</td>\n    </tr>\n    <tr>\n      <th>595</th>\n      <td>CHANGSHA COUNTRY PILOT INTERNATIONAL TRADE CO....</td>\n      <td>2022-06</td>\n      <td>840420.00</td>\n      <td>732972.0</td>\n      <td>6002865.50</td>\n      <td>5053863.88</td>\n      <td>11886968.72</td>\n      <td>8109694.36</td>\n      <td>030617</td>\n    </tr>\n    <tr>\n      <th>596</th>\n      <td>CONSIGNEE/THIRD PARTY :</td>\n      <td>2022-12</td>\n      <td>73440.00</td>\n      <td>73440.0</td>\n      <td>362963.90</td>\n      <td>1008574.91</td>\n      <td>2551965.83</td>\n      <td>1227877.94</td>\n      <td>030617</td>\n    </tr>\n    <tr>\n      <th>597</th>\n      <td>GUANGDONG HONGBAO AQUATIC DEVELOPM ENT CO., LTD.</td>\n      <td>2022-06</td>\n      <td>2702101.72</td>\n      <td>2469505.0</td>\n      <td>19355617.15</td>\n      <td>13875799.52</td>\n      <td>9113067.04</td>\n      <td>8901232.3</td>\n      <td>030617</td>\n    </tr>\n    <tr>\n      <th>598</th>\n      <td>SHANDONG WEIYI FOODS CO. LTD</td>\n      <td>2022-09</td>\n      <td>18360.00</td>\n      <td>18360.0</td>\n      <td>114218.54</td>\n      <td>577662.79</td>\n      <td>2437018.75</td>\n      <td>1138472.25</td>\n      <td>030617</td>\n    </tr>\n  </tbody>\n</table>\n<p>599 rows × 9 columns</p>\n</div>"
     },
     "execution_count": 350,
     "metadata": {},
     "output_type": "execute_result"
    }
   ],
   "source": [
    "pycaret_importer"
   ],
   "metadata": {
    "collapsed": false,
    "pycharm": {
     "name": "#%%\n"
    }
   }
  },
  {
   "cell_type": "code",
   "execution_count": null,
   "outputs": [],
   "source": [],
   "metadata": {
    "collapsed": false,
    "pycharm": {
     "name": "#%%\n"
    }
   }
  },
  {
   "cell_type": "code",
   "execution_count": null,
   "outputs": [],
   "source": [],
   "metadata": {
    "collapsed": false,
    "pycharm": {
     "name": "#%%\n"
    }
   }
  }
 ],
 "metadata": {
  "kernelspec": {
   "display_name": "Python 3",
   "language": "python",
   "name": "python3"
  },
  "language_info": {
   "codemirror_mode": {
    "name": "ipython",
    "version": 3
   },
   "file_extension": ".py",
   "mimetype": "text/x-python",
   "name": "python",
   "nbconvert_exporter": "python",
   "pygments_lexer": "ipython3",
   "version": "3.10.5"
  },
  "vscode": {
   "interpreter": {
    "hash": "aee8b7b246df8f9039afb4144a1f6fd8d2ca17a180786b69acc140d282b71a49"
   }
  }
 },
 "nbformat": 4,
 "nbformat_minor": 0
}